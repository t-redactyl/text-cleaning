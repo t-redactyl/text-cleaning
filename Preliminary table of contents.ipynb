{
 "cells": [
  {
   "cell_type": "markdown",
   "metadata": {},
   "source": [
    "# Table of contents\n",
    "\n",
    "1. Getting the data (web scraping)\n",
    "2. Data cleaning\n",
    "3. TF-IDF and cosine distance\n",
    "4. Feature extraction (PCA)\n",
    "5. Feature extraction (named entity tagging)\n",
    "6. Classification (decision trees and random forests)\n",
    "7. Classification (SVM)\n",
    "8. Classification (naive Bayes)\n",
    "9. Topic modelling\n",
    "10. Sentiment analysis\n",
    "11. Word2Vec"
   ]
  },
  {
   "cell_type": "code",
   "execution_count": null,
   "metadata": {
    "collapsed": true
   },
   "outputs": [],
   "source": []
  }
 ],
 "metadata": {
  "kernelspec": {
   "display_name": "Python 2",
   "language": "python",
   "name": "python2"
  },
  "language_info": {
   "codemirror_mode": {
    "name": "ipython",
    "version": 2
   },
   "file_extension": ".py",
   "mimetype": "text/x-python",
   "name": "python",
   "nbconvert_exporter": "python",
   "pygments_lexer": "ipython2",
   "version": "2.7.13"
  }
 },
 "nbformat": 4,
 "nbformat_minor": 2
}
