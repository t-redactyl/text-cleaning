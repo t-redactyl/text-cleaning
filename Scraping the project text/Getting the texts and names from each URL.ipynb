{
 "cells": [
  {
   "cell_type": "markdown",
   "metadata": {},
   "source": [
    "# Chapter 1: Getting text data for analysis\n",
    "\n",
    "One of the best sources of data for text mining is, of course, the web. There are two main ways of sourcing text data. If we are lucky, a website will have a public API, which is simply an endpoint that we can query and extract data from. If we are unlucky, we will need to scrape the website, which is much messier and can require a bit more clean up.\n",
    "\n",
    "For this book, we will be analysing Grimm's fairytales. The [full set](https://en.wikipedia.org/wiki/Grimms%27_Fairy_Tales) of these comprises of 201 stories and 10 legends, and was originally published in German as *Kinder- und Hausmärchen* (*Children's and Household Tales*) in 1812, and translated to English in *Household Tales by the Brothers Grimm* in 1884. Given that there are no sites hosting these tables with a public API, we will need to scrape some sites to put together our dataset. As such, I won't cover accessing data through an API in this book, but if you are interested in getting data this way you can have a look at a couple of previous text mining projects I have done using data from the [reddit](http://t-redactyl.io/blog/2015/11/analysing-reddit-data-part-1-setting-up-the-environment.html) and [Twitter](http://t-redactyl.io/blog/2017/04/applying-sentiment-analysis-with-vader-and-the-twitter-api.html) APIs.\n",
    "\n",
    "## Getting the text - the hacky version\n",
    "\n",
    "The idea behind web scraping is not too complicated: we want to retrieve data which is on a website (usually in HTML format) and convert it into a format that we can use for an analysis (generally a dataframe). The tricky part can be finding the correct way to select the content that is relevant to us, as websites contain a lot of stuff that we probably don't need. To do this, we need to find the HTML tag(s) that identify the content we want, and pray that the people who built the website have used the tags consistently for the same sort of information!\n",
    "\n",
    "I find that the easiest way to identify the relevant tags for your data is to use the developer tools inbuilt into browsers like Chrome. Essentially all you need to do to use these (in Chrome) is to go to the website you want to scrape, right-click, and select 'Inspect'. This will\n",
    "\n",
    "\n"
   ]
  },
  {
   "cell_type": "code",
   "execution_count": 21,
   "metadata": {},
   "outputs": [
    {
     "name": "stdout",
     "output_type": "stream",
     "text": [
      "<class 'bs4.BeautifulSoup'>\n"
     ]
    }
   ],
   "source": [
    "# Playing around with how to extract the text from a specific fairytale link.\n",
    "from bs4 import BeautifulSoup\n",
    "import urllib\n",
    "\n",
    "r = urllib.urlopen('http://www.worldoftales.com/fairy_tales/Brothers_Grimm/Margaret_Hunt/The_Spindle,_The_Shuttle,_and_the_Needle.html').read()\n",
    "soup = BeautifulSoup(r)\n",
    "print type(soup)"
   ]
  },
  {
   "cell_type": "code",
   "execution_count": 114,
   "metadata": {},
   "outputs": [],
   "source": [
    "#print(soup.prettify())"
   ]
  },
  {
   "cell_type": "code",
   "execution_count": 36,
   "metadata": {},
   "outputs": [],
   "source": [
    "tale = soup.find_all(\"div\", id = 'text', class_ = \"GM\")"
   ]
  },
  {
   "cell_type": "code",
   "execution_count": 115,
   "metadata": {},
   "outputs": [],
   "source": [
    "#tale"
   ]
  },
  {
   "cell_type": "code",
   "execution_count": 38,
   "metadata": {
    "collapsed": true
   },
   "outputs": [],
   "source": [
    "# Now having a look at how to extract all of the URLs and put them in a list.\n",
    "from bs4 import BeautifulSoup\n",
    "import urllib\n",
    "\n",
    "r = urllib.urlopen('http://www.worldoftales.com/fairy_tales/Grimm_fairy_tales_Margaret_Hunt.html').read()\n",
    "soup = BeautifulSoup(r)"
   ]
  },
  {
   "cell_type": "code",
   "execution_count": 54,
   "metadata": {},
   "outputs": [],
   "source": [
    "urls = []\n",
    "url = \"http://www.worldoftales.com/fairy_tales/\"\n",
    "for tag in soup.findAll('a', href = re.compile('Brothers_Grimm')): # Specifically only want URLS for the Grimm's fairytales\n",
    "    match = urlparse.urljoin(url, tag['href'])\n",
    "    urls.append(match)"
   ]
  },
  {
   "cell_type": "code",
   "execution_count": 124,
   "metadata": {},
   "outputs": [],
   "source": [
    "#urls"
   ]
  },
  {
   "cell_type": "code",
   "execution_count": 59,
   "metadata": {
    "collapsed": true
   },
   "outputs": [],
   "source": [
    "# Now extract all of the texts from each URL and put in a list.\n",
    "tales = []\n",
    "for url in urls:\n",
    "    r = urllib.urlopen(url).read()\n",
    "    soup = BeautifulSoup(r)\n",
    "    tale = soup.find_all(\"div\", id = 'text', class_ = \"GM\")\n",
    "    tales.append(tale)"
   ]
  },
  {
   "cell_type": "code",
   "execution_count": 117,
   "metadata": {},
   "outputs": [],
   "source": [
    "#tales[0]"
   ]
  },
  {
   "cell_type": "markdown",
   "metadata": {},
   "source": [
    "## To do\n",
    "\n",
    "- [ ] Extract titles for each tale (in a separate list for ease of feeding into Pandas dataframe)\n",
    "- [ ] Work out if it is possible to pull out cleaner text from the URLs without all of the HTML tags"
   ]
  },
  {
   "cell_type": "code",
   "execution_count": 99,
   "metadata": {},
   "outputs": [],
   "source": [
    "clean_tales = []\n",
    "\n",
    "for tale in tales:\n",
    "    for div in tale:\n",
    "        clean_tales.append(div.text)"
   ]
  },
  {
   "cell_type": "code",
   "execution_count": 118,
   "metadata": {},
   "outputs": [],
   "source": [
    "#clean_tales"
   ]
  },
  {
   "cell_type": "code",
   "execution_count": 83,
   "metadata": {
    "collapsed": true
   },
   "outputs": [],
   "source": [
    "from pandas import DataFrame"
   ]
  },
  {
   "cell_type": "code",
   "execution_count": 122,
   "metadata": {},
   "outputs": [],
   "source": [
    "p = DataFrame({'text': clean_tales})"
   ]
  },
  {
   "cell_type": "code",
   "execution_count": 123,
   "metadata": {},
   "outputs": [
    {
     "data": {
      "text/html": [
       "<div>\n",
       "<style>\n",
       "    .dataframe thead tr:only-child th {\n",
       "        text-align: right;\n",
       "    }\n",
       "\n",
       "    .dataframe thead th {\n",
       "        text-align: left;\n",
       "    }\n",
       "\n",
       "    .dataframe tbody tr th {\n",
       "        vertical-align: top;\n",
       "    }\n",
       "</style>\n",
       "<table border=\"1\" class=\"dataframe\">\n",
       "  <thead>\n",
       "    <tr style=\"text-align: right;\">\n",
       "      <th></th>\n",
       "      <th>text</th>\n",
       "    </tr>\n",
       "  </thead>\n",
       "  <tbody>\n",
       "    <tr>\n",
       "      <th>0</th>\n",
       "      <td>\\n         In old times when wishing still hel...</td>\n",
       "    </tr>\n",
       "    <tr>\n",
       "      <th>1</th>\n",
       "      <td>\\n         A certain cat had made the acquaint...</td>\n",
       "    </tr>\n",
       "    <tr>\n",
       "      <th>2</th>\n",
       "      <td>\\n         Hard by a great forest dwelt a wood...</td>\n",
       "    </tr>\n",
       "    <tr>\n",
       "      <th>3</th>\n",
       "      <td>\\n         A certain father had two sons, the ...</td>\n",
       "    </tr>\n",
       "    <tr>\n",
       "      <th>4</th>\n",
       "      <td>\\n         There was once on a time an old goa...</td>\n",
       "    </tr>\n",
       "  </tbody>\n",
       "</table>\n",
       "</div>"
      ],
      "text/plain": [
       "                                                text\n",
       "0  \\n         In old times when wishing still hel...\n",
       "1  \\n         A certain cat had made the acquaint...\n",
       "2  \\n         Hard by a great forest dwelt a wood...\n",
       "3  \\n         A certain father had two sons, the ...\n",
       "4  \\n         There was once on a time an old goa..."
      ]
     },
     "execution_count": 123,
     "metadata": {},
     "output_type": "execute_result"
    }
   ],
   "source": [
    "p[0:5]"
   ]
  },
  {
   "cell_type": "code",
   "execution_count": 104,
   "metadata": {},
   "outputs": [
    {
     "data": {
      "text/plain": [
       "u'Brothers Grimm fairy tales - The Spindle, The Shuttle, and the Needle'"
      ]
     },
     "execution_count": 104,
     "metadata": {},
     "output_type": "execute_result"
    }
   ],
   "source": [
    "r = urllib.urlopen('http://www.worldoftales.com/fairy_tales/Brothers_Grimm/Margaret_Hunt/The_Spindle,_The_Shuttle,_and_the_Needle.html').read()\n",
    "soup = BeautifulSoup(r)\n",
    "soup.title.text"
   ]
  },
  {
   "cell_type": "code",
   "execution_count": 105,
   "metadata": {},
   "outputs": [],
   "source": [
    "titles = []\n",
    "for url in urls:\n",
    "    r = urllib.urlopen(url).read()\n",
    "    soup = BeautifulSoup(r)\n",
    "    title = soup.title.text\n",
    "    titles.append(title)"
   ]
  },
  {
   "cell_type": "code",
   "execution_count": 120,
   "metadata": {},
   "outputs": [
    {
     "data": {
      "text/plain": [
       "[u'Brothers Grimm fairy tales - The Frog-King, or Iron Henry ',\n",
       " u'Brothers Grimm fairy tales - Cat and Mouse in Partnership (Margaret Hunt)',\n",
       " u\"Brothers Grimm fairy tales - Our Lady's Child\",\n",
       " u'Brothers Grimm fairy tales - The Story of the Youth who Went Forth to Learn What Fear Was (Margaret Hunt)',\n",
       " u'Brothers Grimm fairy tales - The Wolf and The Seven Little Kids (Margaret Hunt)']"
      ]
     },
     "execution_count": 120,
     "metadata": {},
     "output_type": "execute_result"
    }
   ],
   "source": [
    "titles[0:5]"
   ]
  },
  {
   "cell_type": "code",
   "execution_count": 107,
   "metadata": {},
   "outputs": [
    {
     "data": {
      "text/plain": [
       "211"
      ]
     },
     "execution_count": 107,
     "metadata": {},
     "output_type": "execute_result"
    }
   ],
   "source": [
    "len(tales)"
   ]
  },
  {
   "cell_type": "code",
   "execution_count": 108,
   "metadata": {},
   "outputs": [
    {
     "data": {
      "text/plain": [
       "211"
      ]
     },
     "execution_count": 108,
     "metadata": {},
     "output_type": "execute_result"
    }
   ],
   "source": [
    "len(titles)"
   ]
  },
  {
   "cell_type": "code",
   "execution_count": 110,
   "metadata": {},
   "outputs": [],
   "source": [
    "p = DataFrame({'titles': titles,\n",
    "               'text': clean_tales})"
   ]
  },
  {
   "cell_type": "code",
   "execution_count": 121,
   "metadata": {},
   "outputs": [
    {
     "data": {
      "text/html": [
       "<div>\n",
       "<style>\n",
       "    .dataframe thead tr:only-child th {\n",
       "        text-align: right;\n",
       "    }\n",
       "\n",
       "    .dataframe thead th {\n",
       "        text-align: left;\n",
       "    }\n",
       "\n",
       "    .dataframe tbody tr th {\n",
       "        vertical-align: top;\n",
       "    }\n",
       "</style>\n",
       "<table border=\"1\" class=\"dataframe\">\n",
       "  <thead>\n",
       "    <tr style=\"text-align: right;\">\n",
       "      <th></th>\n",
       "      <th>text</th>\n",
       "      <th>titles</th>\n",
       "    </tr>\n",
       "  </thead>\n",
       "  <tbody>\n",
       "    <tr>\n",
       "      <th>0</th>\n",
       "      <td>\\n         In old times when wishing still hel...</td>\n",
       "      <td>Brothers Grimm fairy tales - The Frog-King, or...</td>\n",
       "    </tr>\n",
       "    <tr>\n",
       "      <th>1</th>\n",
       "      <td>\\n         A certain cat had made the acquaint...</td>\n",
       "      <td>Brothers Grimm fairy tales - Cat and Mouse in ...</td>\n",
       "    </tr>\n",
       "    <tr>\n",
       "      <th>2</th>\n",
       "      <td>\\n         Hard by a great forest dwelt a wood...</td>\n",
       "      <td>Brothers Grimm fairy tales - Our Lady's Child</td>\n",
       "    </tr>\n",
       "    <tr>\n",
       "      <th>3</th>\n",
       "      <td>\\n         A certain father had two sons, the ...</td>\n",
       "      <td>Brothers Grimm fairy tales - The Story of the ...</td>\n",
       "    </tr>\n",
       "    <tr>\n",
       "      <th>4</th>\n",
       "      <td>\\n         There was once on a time an old goa...</td>\n",
       "      <td>Brothers Grimm fairy tales - The Wolf and The ...</td>\n",
       "    </tr>\n",
       "  </tbody>\n",
       "</table>\n",
       "</div>"
      ],
      "text/plain": [
       "                                                text  \\\n",
       "0  \\n         In old times when wishing still hel...   \n",
       "1  \\n         A certain cat had made the acquaint...   \n",
       "2  \\n         Hard by a great forest dwelt a wood...   \n",
       "3  \\n         A certain father had two sons, the ...   \n",
       "4  \\n         There was once on a time an old goa...   \n",
       "\n",
       "                                              titles  \n",
       "0  Brothers Grimm fairy tales - The Frog-King, or...  \n",
       "1  Brothers Grimm fairy tales - Cat and Mouse in ...  \n",
       "2      Brothers Grimm fairy tales - Our Lady's Child  \n",
       "3  Brothers Grimm fairy tales - The Story of the ...  \n",
       "4  Brothers Grimm fairy tales - The Wolf and The ...  "
      ]
     },
     "execution_count": 121,
     "metadata": {},
     "output_type": "execute_result"
    }
   ],
   "source": [
    "p[0:5]"
   ]
  },
  {
   "cell_type": "code",
   "execution_count": 113,
   "metadata": {},
   "outputs": [],
   "source": [
    "p.to_csv('/Users/jodieburchell/Documents/text-cleaning/Scraping the project text/raw_data.csv',\n",
    "         encoding='utf-8')"
   ]
  },
  {
   "cell_type": "code",
   "execution_count": 125,
   "metadata": {},
   "outputs": [
    {
     "data": {
      "text/plain": [
       "[<a href=\"http://www.grimmstories.com/zh/grimm_tonghua/list\">ZH</a>,\n",
       " <a href=\"http://www.grimmstories.com/vi/grimm_truyen/list\">VI</a>,\n",
       " <a href=\"http://www.grimmstories.com/tr/grimm_masallari/list\">TR</a>,\n",
       " <a href=\"http://www.grimmstories.com/ru/grimm_skazki/list\">RU</a>,\n",
       " <a href=\"http://www.grimmstories.com/ro/grimm_basme/list\">RO</a>,\n",
       " <a href=\"http://www.grimmstories.com/pt/grimm_contos/list\">PT</a>,\n",
       " <a href=\"http://www.grimmstories.com/pl/grimm_basnie/list\">PL</a>,\n",
       " <a href=\"http://www.grimmstories.com/nl/grimm_sprookjes/list\">NL</a>,\n",
       " <a href=\"http://www.grimmstories.com/ko/grimm_donghwa/list\">KO</a>,\n",
       " <a href=\"http://www.grimmstories.com/ja/grimm_dowa/list\">JA</a>,\n",
       " <a href=\"http://www.grimmstories.com/it/grimm_fiabe/list\">IT</a>,\n",
       " <a href=\"http://www.grimmstories.com/hu/grimm_mesek/list\">HU</a>,\n",
       " <a href=\"http://www.grimmstories.com/fr/grimm_contes/list\">FR</a>,\n",
       " <a href=\"http://www.grimmstories.com/fi/grimm_sadut/list\">FI</a>,\n",
       " <a href=\"http://www.grimmstories.com/es/grimm_cuentos/list\">ES</a>,\n",
       " <a href=\"http://www.grimmstories.com/en/grimm_fairy-tales/list\">EN</a>,\n",
       " <a href=\"http://www.grimmstories.com/de/grimm_maerchen/list\" style=\"background: #FF9900;\">DE</a>,\n",
       " <a href=\"http://www.grimmstories.com/da/grimm_eventyr/list\">DA</a>,\n",
       " <a href=\"http://www.grimmstories.com/de/grimm_maerchen/index\">Grimms M\\xe4rchen</a>,\n",
       " <a href=\"http://www.grimmstories.com/\">grimmstories.com</a>,\n",
       " <a href=\"http://www.grimmstories.com/de/grimm_maerchen/index\">startseite</a>,\n",
       " <a href=\"http://www.grimmstories.com/de/grimm_maerchen/index\">\\n      Grimms M\\xe4rchen      </a>,\n",
       " <a href=\"http://www.grimmstories.com/de/grimm_maerchen/favorites\">Die sch\\xf6nsten M\\xe4rchen</a>,\n",
       " <a href=\"http://www.grimmstories.com/de/grimm_maerchen/index?page=1\">Liste von M\\xe4rchen</a>,\n",
       " <a href=\"http://www.grimmstories.com/de/grimm_maerchen/list\">Die komplette Liste</a>,\n",
       " <a href=\"http://www.grimmstories.com/de/grimm_maerchen/titles\">Alphabetische Liste</a>,\n",
       " <a href=\"http://www.grimmstories.com/de/grimm_maerchen/random\">Zuf\\xe4lliges M\\xe4rchen</a>,\n",
       " <a href=\"http://www.andersenstories.com/de/andersen_maerchen/index\">Andersens M\\xe4rchen</a>,\n",
       " <a href=\"http://www.grimmstories.com/\">Grimmstories.com</a>,\n",
       " <a href=\"mailto:info@grimmstories.com\">info@grimmstories.com</a>,\n",
       " <a href=\"http://www.andersenstories.com/de/andersen_maerchen/die_kleine_seejungfer\"><img alt=\"\" class=\"list_image_small\" height=\"60\" src=\"http://www.andersenstories.com//images/sprookjes/list/008.jpg\" width=\"60\"/><span class=\"list_height\">Die kleine Seejungfer</span><br/><span class=\"list_url\">H.C. Andersen \\u2192</span></a>,\n",
       " <a href=\"http://www.grimmstories.com/de/grimm_maerchen/der_froschkonig_oder_der_eiserne_heinrich\">Der Froschk\\xf6nig oder der eiserne Heinrich</a>,\n",
       " <a href=\"http://www.grimmstories.com/de/grimm_maerchen/katze_und_maus_in_gesellschaft\">Katze und Maus in Gesellschaft</a>,\n",
       " <a href=\"http://www.grimmstories.com/de/grimm_maerchen/marienkind\">Marienkind</a>,\n",
       " <a href=\"http://www.grimmstories.com/de/grimm_maerchen/marchen_von_einem_der_auszog_das_furchten_zu_lernen\">Von einem, der auszog, das F\\xfcrchten zu lernen</a>,\n",
       " <a href=\"http://www.grimmstories.com/de/grimm_maerchen/der_wolf_und_die_sieben_jungen_geisslein\">Der Wolf und die sieben jungen Gei\\xdflein</a>,\n",
       " <a href=\"http://www.grimmstories.com/de/grimm_maerchen/der_treue_johannes\">Der treue Johannes</a>,\n",
       " <a href=\"http://www.grimmstories.com/de/grimm_maerchen/der_gute_handel\">Der gute Handel</a>,\n",
       " <a href=\"http://www.grimmstories.com/de/grimm_maerchen/der_wunderliche_spielmann\">Der wunderliche Spielmann</a>,\n",
       " <a href=\"http://www.grimmstories.com/de/grimm_maerchen/die_zwoelf_brueder\">Die zw\\xf6lf Br\\xfcder</a>,\n",
       " <a href=\"http://www.grimmstories.com/de/grimm_maerchen/das_lumpengesindel\">Das Lumpengesindel</a>,\n",
       " <a href=\"http://www.grimmstories.com/de/grimm_maerchen/bruderchen_und_schwesterchen\">Br\\xfcderchen und Schwesterchen</a>,\n",
       " <a href=\"http://www.grimmstories.com/de/grimm_maerchen/rapunzel\">Rapunzel</a>,\n",
       " <a href=\"http://www.grimmstories.com/de/grimm_maerchen/die_drei_mannlein_im_walde\">Die drei M\\xe4nnlein im Walde</a>,\n",
       " <a href=\"http://www.grimmstories.com/de/grimm_maerchen/die_drei_spinnerinnen\">Die drei Spinnerinnen</a>,\n",
       " <a href=\"http://www.grimmstories.com/de/grimm_maerchen/hansel_und_gretel\">H\\xe4nsel und Gretel</a>,\n",
       " <a href=\"http://www.grimmstories.com/de/grimm_maerchen/die_drie_schlangenblatter\">Die drei Schlangenbl\\xe4tter</a>,\n",
       " <a href=\"http://www.grimmstories.com/de/grimm_maerchen/die_weisse_schlange\">Die wei\\xdfe Schlange</a>,\n",
       " <a href=\"http://www.grimmstories.com/de/grimm_maerchen/strohhalm_kohle_und_bohne\">Strohhalm, Kohle und Bohne</a>,\n",
       " <a href=\"http://www.grimmstories.com/de/grimm_maerchen/von_dem_fischer_un_seiner_frau\">Von dem Fischer und seiner Frau</a>,\n",
       " <a href=\"http://www.grimmstories.com/de/grimm_maerchen/das_tapfere_schneiderlein\">Das tapfere Schneiderlein</a>,\n",
       " <a href=\"http://www.grimmstories.com/de/grimm_maerchen/aschenputtel\">Aschenputtel</a>,\n",
       " <a href=\"http://www.grimmstories.com/de/grimm_maerchen/das_raetsel\">Das R\\xe4tsel</a>,\n",
       " <a href=\"http://www.grimmstories.com/de/grimm_maerchen/von_dem_mauschen_vogelchen_und_der_bratwurst\">Von dem M\\xe4uschen, V\\xf6gelchen und der Bratwurst</a>,\n",
       " <a href=\"http://www.grimmstories.com/de/grimm_maerchen/frau_holle\">Frau Holle</a>,\n",
       " <a href=\"http://www.grimmstories.com/de/grimm_maerchen/die_sieben_raben\">Die sieben Raben</a>,\n",
       " <a href=\"http://www.grimmstories.com/de/grimm_maerchen/rotkaeppchen\">Rotk\\xe4ppchen</a>,\n",
       " <a href=\"http://www.grimmstories.com/de/grimm_maerchen/die_bremer_stadtmusikanten\">Die Bremer Stadtmusikanten</a>,\n",
       " <a href=\"http://www.grimmstories.com/de/grimm_maerchen/der_singende_knochen\">Der singende Knochen</a>,\n",
       " <a href=\"http://www.grimmstories.com/de/grimm_maerchen/der_teufel_mit_den_drei_goldenen_haaren\">Der Teufel mit den drei goldenen Haaren</a>,\n",
       " <a href=\"http://www.grimmstories.com/de/grimm_maerchen/lauschen_und_flohchen\">L\\xe4uschen und Fl\\xf6hchen</a>,\n",
       " <a href=\"http://www.grimmstories.com/de/grimm_maerchen/das_madchen_ohne_hande\">Das M\\xe4dchen ohne H\\xe4nde</a>,\n",
       " <a href=\"http://www.grimmstories.com/de/grimm_maerchen/der_gescheite_hans\">Der gescheite Hans</a>,\n",
       " <a href=\"http://www.grimmstories.com/de/grimm_maerchen/die_drei_sprachen\">Die drei Sprachen</a>,\n",
       " <a href=\"http://www.grimmstories.com/de/grimm_maerchen/die_kluge_else\">Die kluge Else</a>,\n",
       " <a href=\"http://www.grimmstories.com/de/grimm_maerchen/der_schneider_im_himmel\">Der Schneider im Himmel</a>,\n",
       " <a href=\"http://www.grimmstories.com/de/grimm_maerchen/tischchen_deck_dich_goldesel_und_knuppel_aus_dem_sack\">Tischchen deck dich, Goldesel und Kn\\xfcppel aus dem Sack</a>,\n",
       " <a href=\"http://www.grimmstories.com/de/grimm_maerchen/daumesdick\">Daumesdick</a>,\n",
       " <a href=\"http://www.grimmstories.com/de/grimm_maerchen/die_hochzeir_der_frau_fuechsin\">Die Hochzeit der Frau F\\xfcchsin</a>,\n",
       " <a href=\"http://www.grimmstories.com/de/grimm_maerchen/die_wichtelmaenner\">Die Wichtelm\\xe4nner</a>,\n",
       " <a href=\"http://www.grimmstories.com/de/grimm_maerchen/der_rauberbrautigam\">Der R\\xe4uberbr\\xe4utigam</a>,\n",
       " <a href=\"http://www.grimmstories.com/de/grimm_maerchen/herr_korbes\">Herr Korbes</a>,\n",
       " <a href=\"http://www.grimmstories.com/de/grimm_maerchen/der_herr_gevatter\">Der Herr Gevatter</a>,\n",
       " <a href=\"http://www.grimmstories.com/de/grimm_maerchen/frau_trude\">Frau Trude</a>,\n",
       " <a href=\"http://www.grimmstories.com/de/grimm_maerchen/der_gevatter_tod\">Der Gevatter Tod</a>,\n",
       " <a href=\"http://www.grimmstories.com/de/grimm_maerchen/daumerlings_wanderschaft\">Daumerlings Wanderschaft</a>,\n",
       " <a href=\"http://www.grimmstories.com/de/grimm_maerchen/fitchers_vogel\">Fitchers Vogel</a>,\n",
       " <a href=\"http://www.grimmstories.com/de/grimm_maerchen/von_dem_machandelbaum\">Von dem Machandelboom</a>,\n",
       " <a href=\"http://www.grimmstories.com/de/grimm_maerchen/der_alte_sultan\">Der alte Sultan</a>,\n",
       " <a href=\"http://www.grimmstories.com/de/grimm_maerchen/die_sechs_schwane\">Die sechs Schw\\xe4ne</a>,\n",
       " <a href=\"http://www.grimmstories.com/de/grimm_maerchen/dornroschen\">Dornr\\xf6schen</a>,\n",
       " <a href=\"http://www.grimmstories.com/de/grimm_maerchen/fundevogel\">Fundevogel</a>,\n",
       " <a href=\"http://www.grimmstories.com/de/grimm_maerchen/koenig_drosselbart\">K\\xf6nig Drosselbart</a>,\n",
       " <a href=\"http://www.grimmstories.com/de/grimm_maerchen/sneewittchen_schneewittchen\">Schneewittchen</a>,\n",
       " <a href=\"http://www.grimmstories.com/de/grimm_maerchen/der_ranzen_das_huetlein_und_das_hoernlein\">Der Ranzen, das H\\xfctlein und das H\\xf6rnlein</a>,\n",
       " <a href=\"http://www.grimmstories.com/de/grimm_maerchen/rumpelstilzchen\">Rumpelstilzchen</a>,\n",
       " <a href=\"http://www.grimmstories.com/de/grimm_maerchen/der_liebste_roland\">Der liebste Roland</a>,\n",
       " <a href=\"http://www.grimmstories.com/de/grimm_maerchen/der_goldene_vogel\">Der goldene Vogel</a>,\n",
       " <a href=\"http://www.grimmstories.com/de/grimm_maerchen/der_hund_und_der_sperling\">Der Hund und der Sperling</a>,\n",
       " <a href=\"http://www.grimmstories.com/de/grimm_maerchen/der_frieder_und_das_katherlieschen\">Der Frieder und das Katherlieschen</a>,\n",
       " <a href=\"http://www.grimmstories.com/de/grimm_maerchen/die_zwei_bruder\">Die zwei Br\\xfcder</a>,\n",
       " <a href=\"http://www.grimmstories.com/de/grimm_maerchen/das_buerle\">Das B\\xfcrle</a>,\n",
       " <a href=\"http://www.grimmstories.com/de/grimm_maerchen/die_bienenkonigin\">Die Bienenk\\xf6nigin</a>,\n",
       " <a href=\"http://www.grimmstories.com/de/grimm_maerchen/die_drei_federn\">Die drei Federn</a>,\n",
       " <a href=\"http://www.grimmstories.com/de/grimm_maerchen/die_goldene_gans\">Die goldene Gans</a>,\n",
       " <a href=\"http://www.grimmstories.com/de/grimm_maerchen/allerleirauh\">Allerleirauh</a>,\n",
       " <a href=\"http://www.grimmstories.com/de/grimm_maerchen/haesichenbraut\">H\\xe4sichenbraut</a>,\n",
       " <a href=\"http://www.grimmstories.com/de/grimm_maerchen/die_zwoelf_jaeger\">Die zw\\xf6lf J\\xe4ger</a>,\n",
       " <a href=\"http://www.grimmstories.com/de/grimm_maerchen/der_gaudieb_und_sein_meister\">Der Gaudieb und sein Meister</a>,\n",
       " <a href=\"http://www.grimmstories.com/de/grimm_maerchen/jorinde_und_joringel\">Jorinde und Joringel</a>,\n",
       " <a href=\"http://www.grimmstories.com/de/grimm_maerchen/die_drei_glueckskinder\">Die drei Gl\\xfcckskinder</a>,\n",
       " <a href=\"http://www.grimmstories.com/de/grimm_maerchen/sechse_kommen_durch_die_ganze_welt\">Sechse kommen durch die ganze Welt</a>,\n",
       " <a href=\"http://www.grimmstories.com/de/grimm_maerchen/der_wolf_und_der_mensch\">Der Wolf und der Mensch</a>,\n",
       " <a href=\"http://www.grimmstories.com/de/grimm_maerchen/der_wolf_und_der_fuchs\">Der Wolf und der Fuchs</a>,\n",
       " <a href=\"http://www.grimmstories.com/de/grimm_maerchen/der_fuchs_und_die_frau_gevatterin\">Der Fuchs und die Frau Gevatterin</a>,\n",
       " <a href=\"http://www.grimmstories.com/de/grimm_maerchen/der_fuchs_und_die_katze\">Der Fuchs und die Katze</a>,\n",
       " <a href=\"http://www.grimmstories.com/de/grimm_maerchen/die_nelke\">Die Nelke</a>,\n",
       " <a href=\"http://www.grimmstories.com/de/grimm_maerchen/das_kluge_grethel\">Das kluge Gretel</a>,\n",
       " <a href=\"http://www.grimmstories.com/de/grimm_maerchen/der_alte_grossvater_und_sein_enkel\">Der alte Gro\\xdfvater und der Enkel</a>,\n",
       " <a href=\"http://www.grimmstories.com/de/grimm_maerchen/die_wassernixe\">Die Wassernixe</a>,\n",
       " <a href=\"http://www.grimmstories.com/de/grimm_maerchen/von_dem_tode_des_huenchens\">Von dem Tode des H\\xfchnchens</a>,\n",
       " <a href=\"http://www.grimmstories.com/de/grimm_maerchen/bruder_lustig\">Bruder Lustig</a>,\n",
       " <a href=\"http://www.grimmstories.com/de/grimm_maerchen/de_spielhansl\">Der Spielhansl</a>,\n",
       " <a href=\"http://www.grimmstories.com/de/grimm_maerchen/hans_im_glueck\">Hans im Gl\\xfcck</a>,\n",
       " <a href=\"http://www.grimmstories.com/de/grimm_maerchen/hans_heiratet\">Hans heiratet</a>,\n",
       " <a href=\"http://www.grimmstories.com/de/grimm_maerchen/die_goldkinder\">Die Goldkinder</a>,\n",
       " <a href=\"http://www.grimmstories.com/de/grimm_maerchen/der_fuchs_und_die_ganse\">Der Fuchs und die G\\xe4nse</a>,\n",
       " <a href=\"http://www.grimmstories.com/de/grimm_maerchen/der_arme_und_der_reiche\">Der Arme und der Reiche</a>,\n",
       " <a href=\"http://www.grimmstories.com/de/grimm_maerchen/das_singende_springende_loeweneckerchen\">Das singende, springende L\\xf6weneckerchen</a>,\n",
       " <a href=\"http://www.grimmstories.com/de/grimm_maerchen/die_gansemagd\">Die G\\xe4nsemagd</a>,\n",
       " <a href=\"http://www.grimmstories.com/de/grimm_maerchen/der_junge_riese\">Der junge Riese</a>,\n",
       " <a href=\"http://www.grimmstories.com/de/grimm_maerchen/dat_erdmaenneken\">Das Erdm\\xe4nnchen</a>,\n",
       " <a href=\"http://www.grimmstories.com/de/grimm_maerchen/der_konig_vom_goldenen_berg\">Der K\\xf6nig vom goldenen Berg</a>,\n",
       " <a href=\"http://www.grimmstories.com/de/grimm_maerchen/die_rabe\">Die Rabe</a>,\n",
       " <a href=\"http://www.grimmstories.com/de/grimm_maerchen/die_kluge_bauerntochter\">Die kluge Bauerntochter</a>,\n",
       " <a href=\"http://www.grimmstories.com/de/grimm_maerchen/der_alte_hildebrand\">Der alte Hildebrand</a>,\n",
       " <a href=\"http://www.grimmstories.com/de/grimm_maerchen/de_drei_vugelkens\">Die drei V\\xf6gelchen</a>,\n",
       " <a href=\"http://www.grimmstories.com/de/grimm_maerchen/das_wasser_des_lebens\">Das Wasser des Lebens</a>,\n",
       " <a href=\"http://www.grimmstories.com/de/grimm_maerchen/doktor_allwissend\">Doktor Allwissend</a>,\n",
       " <a href=\"http://www.grimmstories.com/de/grimm_maerchen/der_geist_im_glas\">Der Geist im Glas</a>,\n",
       " <a href=\"http://www.grimmstories.com/de/grimm_maerchen/des_teufels_russiger_bruder\">Des Teufels ru\\xdfiger Bruder</a>,\n",
       " <a href=\"http://www.grimmstories.com/de/grimm_maerchen/der_barenhauter\">Der B\\xe4renh\\xe4uter</a>,\n",
       " <a href=\"http://www.grimmstories.com/de/grimm_maerchen/der_zaunkoenig_und_der_baer\">Der Zaunk\\xf6nig und der B\\xe4r</a>,\n",
       " <a href=\"http://www.grimmstories.com/de/grimm_maerchen/der_susse_brei\">Der s\\xfc\\xdfe Brei</a>,\n",
       " <a href=\"http://www.grimmstories.com/de/grimm_maerchen/die_klugen_leute\">Die klugen Leute</a>,\n",
       " <a href=\"http://www.grimmstories.com/de/grimm_maerchen/maerchen_von_der_unke\">M\\xe4rchen von der Unke</a>,\n",
       " <a href=\"http://www.grimmstories.com/de/grimm_maerchen/der_arme_muellerbursch_und_das_kaetzchen\">Der arme M\\xfcllerbursch und das K\\xe4tzchen</a>,\n",
       " <a href=\"http://www.grimmstories.com/de/grimm_maerchen/die_beiden_wanderer\">Die beiden Wanderer</a>,\n",
       " <a href=\"http://www.grimmstories.com/de/grimm_maerchen/hans_mein_igel\">Hans mein Igel</a>,\n",
       " <a href=\"http://www.grimmstories.com/de/grimm_maerchen/das_totenhemdchen\">Das Totenhemdchen</a>,\n",
       " <a href=\"http://www.grimmstories.com/de/grimm_maerchen/der_jude_im_dorn\">Der Jude im Dorn</a>,\n",
       " <a href=\"http://www.grimmstories.com/de/grimm_maerchen/der_gelernte_jaeger\">Der gelernte J\\xe4ger</a>,\n",
       " <a href=\"http://www.grimmstories.com/de/grimm_maerchen/der_dreschflegel_vom_himmel\">Der Dreschflegel vom Himmel</a>,\n",
       " <a href=\"http://www.grimmstories.com/de/grimm_maerchen/de_beiden_kuenigeskinner\">Die beiden K\\xf6nigskinder</a>,\n",
       " <a href=\"http://www.grimmstories.com/de/grimm_maerchen/vom_klugen_schneiderlein\">Vom klugen Schneiderlein</a>,\n",
       " <a href=\"http://www.grimmstories.com/de/grimm_maerchen/die_klare_sonne_bringts_an_den_tag\">Die klare Sonne bringts an den Tag</a>,\n",
       " <a href=\"http://www.grimmstories.com/de/grimm_maerchen/das_blaue_licht\">Das blaue Licht</a>,\n",
       " <a href=\"http://www.grimmstories.com/de/grimm_maerchen/das_eigensinnige_kind\">Das eigensinnige Kind</a>,\n",
       " <a href=\"http://www.grimmstories.com/de/grimm_maerchen/die_drei_feldscherer\">Die drei Feldscherer</a>,\n",
       " <a href=\"http://www.grimmstories.com/de/grimm_maerchen/die_sieben_schwaben\">Die sieben Schwaben</a>,\n",
       " <a href=\"http://www.grimmstories.com/de/grimm_maerchen/die_drei_handwerksburschen\">Die drei Handwerksburschen</a>,\n",
       " <a href=\"http://www.grimmstories.com/de/grimm_maerchen/der_koenigssohn_der_sich_vor_nichts_fuerchtet\">Der K\\xf6nigssohn, der sich vor nichts f\\xfcrchtet</a>,\n",
       " <a href=\"http://www.grimmstories.com/de/grimm_maerchen/der_krautesel\">Der Krautesel</a>,\n",
       " <a href=\"http://www.grimmstories.com/de/grimm_maerchen/die_alte_im_wald\">Die Alte im Wald</a>,\n",
       " <a href=\"http://www.grimmstories.com/de/grimm_maerchen/die_drei_brueder\">Die drei Br\\xfcder</a>,\n",
       " <a href=\"http://www.grimmstories.com/de/grimm_maerchen/der_teufel_und_seine_grossmutter\">Der Teufel und seine Gro\\xdfmutter</a>,\n",
       " <a href=\"http://www.grimmstories.com/de/grimm_maerchen/ferenand_getrue_und_ferenand_ungetrue\">Ferdinand getreu und Ferdinand ungetreu</a>,\n",
       " <a href=\"http://www.grimmstories.com/de/grimm_maerchen/der_eisenofen\">Der Eisenofen</a>,\n",
       " <a href=\"http://www.grimmstories.com/de/grimm_maerchen/die_faule_spinnerin\">Die faule Spinnerin</a>,\n",
       " <a href=\"http://www.grimmstories.com/de/grimm_maerchen/die_vier_kunstreichen_brueder\">Die vier kunstreichen Br\\xfcder</a>,\n",
       " <a href=\"http://www.grimmstories.com/de/grimm_maerchen/einauglein_zweiauglein_und_dreiauglein\">Ein\\xe4uglein, Zwei\\xe4uglein und Drei\\xe4uglein</a>,\n",
       " <a href=\"http://www.grimmstories.com/de/grimm_maerchen/die_schoene_katrinelje_und_pif_paf_poltrie\">Die sch\\xf6ne Katrinelje und Pif Paf Poltrie</a>,\n",
       " <a href=\"http://www.grimmstories.com/de/grimm_maerchen/der_fuchs_und_das_pferd\">Der Fuchs und das Pferd</a>,\n",
       " <a href=\"http://www.grimmstories.com/de/grimm_maerchen/die_zertanzten_schuhe\">Die zertanzten Schuhe</a>,\n",
       " <a href=\"http://www.grimmstories.com/de/grimm_maerchen/die_sechs_diener\">Die sechs Diener</a>,\n",
       " <a href=\"http://www.grimmstories.com/de/grimm_maerchen/die_weisse_und_die_schwarze_braut\">Die wei\\xdfe und die schwarze Braut</a>,\n",
       " <a href=\"http://www.grimmstories.com/de/grimm_maerchen/der_eisenhans\">Der Eisenhans</a>,\n",
       " <a href=\"http://www.grimmstories.com/de/grimm_maerchen/de_drei_schwatten_prinzessinnen\">Die drei schwarzen Prinzessinnen</a>,\n",
       " <a href=\"http://www.grimmstories.com/de/grimm_maerchen/knoist_un_sine_dre_suehne\">Knoist und seine drei S\\xf6hne</a>,\n",
       " <a href=\"http://www.grimmstories.com/de/grimm_maerchen/dat_maeken_von_brakel\">Das M\\xe4dchen von Brakel</a>,\n",
       " <a href=\"http://www.grimmstories.com/de/grimm_maerchen/das_hausgesinde\">Das Hausgesinde</a>,\n",
       " <a href=\"http://www.grimmstories.com/de/grimm_maerchen/das_laemmchen_und_fischchen\">Das L\\xe4mmchen und Fischchen</a>,\n",
       " <a href=\"http://www.grimmstories.com/de/grimm_maerchen/simeliberg\">Simeliberg</a>,\n",
       " <a href=\"http://www.grimmstories.com/de/grimm_maerchen/up_reisen_gohn\">Auf Reisen gehen</a>,\n",
       " <a href=\"http://www.grimmstories.com/de/grimm_maerchen/das_eselein\">Das Eselein</a>,\n",
       " <a href=\"http://www.grimmstories.com/de/grimm_maerchen/der_undankbare_sohn\">Der undankbare Sohn</a>,\n",
       " <a href=\"http://www.grimmstories.com/de/grimm_maerchen/die_ruebe\">Die R\\xfcbe</a>,\n",
       " <a href=\"http://www.grimmstories.com/de/grimm_maerchen/das_junggegluehte_maennlein\">Das junggegl\\xfchte M\\xe4nnlein</a>,\n",
       " <a href=\"http://www.grimmstories.com/de/grimm_maerchen/des_herrn_und_des_teufels_getier\">Des Herrn und des Teufels Getier</a>,\n",
       " <a href=\"http://www.grimmstories.com/de/grimm_maerchen/der_hahnenbalken\">Der Hahnenbalken</a>,\n",
       " <a href=\"http://www.grimmstories.com/de/grimm_maerchen/die_alte_bettelfrau\">Die alte Bettelfrau</a>,\n",
       " <a href=\"http://www.grimmstories.com/de/grimm_maerchen/die_drei_faulen\">Die drei Faulen</a>,\n",
       " <a href=\"http://www.grimmstories.com/de/grimm_maerchen/die_zwoelf_faulen_knechte\">Die zw\\xf6lf faulen Knechte</a>,\n",
       " <a href=\"http://www.grimmstories.com/de/grimm_maerchen/das_hirtenbueblein\">Das Hirtenb\\xfcblein</a>,\n",
       " <a href=\"http://www.grimmstories.com/de/grimm_maerchen/die_sterntaler\">Die Sterntaler</a>,\n",
       " <a href=\"http://www.grimmstories.com/de/grimm_maerchen/der_gestohlene_heller\">Der gestohlene Heller</a>,\n",
       " <a href=\"http://www.grimmstories.com/de/grimm_maerchen/die_brautschau\">Die Brautschau</a>,\n",
       " <a href=\"http://www.grimmstories.com/de/grimm_maerchen/die_schlickerlinge\">Die Schlickerlinge</a>,\n",
       " <a href=\"http://www.grimmstories.com/de/grimm_maerchen/der_sperling_und_seine_vier_kinder\">Der Sperling und seine vier Kinder</a>,\n",
       " <a href=\"http://www.grimmstories.com/de/grimm_maerchen/das_maerchen_vom_schlaraffenland\">Das M\\xe4rchen vom Schlaraffenland</a>,\n",
       " <a href=\"http://www.grimmstories.com/de/grimm_maerchen/das_dietmarsische_lugenmaerchen\">Das Dietmarsische L\\xfcgenm\\xe4rchen</a>,\n",
       " <a href=\"http://www.grimmstories.com/de/grimm_maerchen/raetselmaerchen\">R\\xe4tselm\\xe4rchen</a>,\n",
       " <a href=\"http://www.grimmstories.com/de/grimm_maerchen/schneeweisschen_und_rosenrot\">Schneewei\\xdfchen und Rosenrot</a>,\n",
       " <a href=\"http://www.grimmstories.com/de/grimm_maerchen/der_kluge_knecht\">Der kluge Knecht</a>,\n",
       " <a href=\"http://www.grimmstories.com/de/grimm_maerchen/der_glaeserne_sarg\">Der gl\\xe4serne Sarg</a>,\n",
       " <a href=\"http://www.grimmstories.com/de/grimm_maerchen/der_faule_heinz\">Der faule Heinz</a>,\n",
       " <a href=\"http://www.grimmstories.com/de/grimm_maerchen/der_vogel_greif\">Der Vogel Greif</a>,\n",
       " <a href=\"http://www.grimmstories.com/de/grimm_maerchen/der_starke_hans\">Der starke Hans</a>,\n",
       " <a href=\"http://www.grimmstories.com/de/grimm_maerchen/das_buerle_im_himmel\">Das B\\xfcrle im Himmel</a>,\n",
       " <a href=\"http://www.grimmstories.com/de/grimm_maerchen/die_hagere_liese\">Die hagere Liese</a>,\n",
       " <a href=\"http://www.grimmstories.com/de/grimm_maerchen/das_waldhaus\">Das Waldhaus</a>,\n",
       " <a href=\"http://www.grimmstories.com/de/grimm_maerchen/lieb_und_leid_teilen\">Lieb und Leid teilen</a>,\n",
       " <a href=\"http://www.grimmstories.com/de/grimm_maerchen/der_zaunkoenig\">Der Zaunk\\xf6nig</a>,\n",
       " <a href=\"http://www.grimmstories.com/de/grimm_maerchen/die_scholle\">Die Scholle</a>,\n",
       " <a href=\"http://www.grimmstories.com/de/grimm_maerchen/rohrdommel_und_wiedehopf\">Rohrdommel und Wiedehopf</a>,\n",
       " <a href=\"http://www.grimmstories.com/de/grimm_maerchen/die_eule\">Die Eule</a>,\n",
       " <a href=\"http://www.grimmstories.com/de/grimm_maerchen/der_mond\">Der Mond</a>,\n",
       " <a href=\"http://www.grimmstories.com/de/grimm_maerchen/die_lebenszeit\">Die Lebenszeit</a>,\n",
       " <a href=\"http://www.grimmstories.com/de/grimm_maerchen/die_boten_des_todes\">Die Boten des Todes</a>,\n",
       " <a href=\"http://www.grimmstories.com/de/grimm_maerchen/meister_pfriem\">Meister Pfriem</a>,\n",
       " <a href=\"http://www.grimmstories.com/de/grimm_maerchen/die_gaensehirtin_am_brunnen\">Die G\\xe4nsehirtin am Brunnen</a>,\n",
       " <a href=\"http://www.grimmstories.com/de/grimm_maerchen/die_ungleichen_kinder_evas\">Die ungleichen Kinder Evas</a>,\n",
       " <a href=\"http://www.grimmstories.com/de/grimm_maerchen/die_nixe_im_teich\">Die Nixe im Teich</a>,\n",
       " <a href=\"http://www.grimmstories.com/de/grimm_maerchen/die_geschenke_des_kleinen_volkes\">Die Geschenke des kleinen Volkes</a>,\n",
       " <a href=\"http://www.grimmstories.com/de/grimm_maerchen/der_riese_und_der_schneider\">Der Riese und der Schneider</a>,\n",
       " <a href=\"http://www.grimmstories.com/de/grimm_maerchen/der_nagel\">Der Nagel</a>,\n",
       " <a href=\"http://www.grimmstories.com/de/grimm_maerchen/der_arme_junge_im_grab\">Der arme Junge im Grab</a>,\n",
       " <a href=\"http://www.grimmstories.com/de/grimm_maerchen/die_wahre_braut\">Die wahre Braut</a>,\n",
       " <a href=\"http://www.grimmstories.com/de/grimm_maerchen/der_hase_und_der_igel\">Der Hase und der Igel</a>,\n",
       " <a href=\"http://www.grimmstories.com/de/grimm_maerchen/spindel_weberschiffchen_und_nadel\">Spindel, Weberschiffchen und Nadel</a>,\n",
       " <a href=\"http://www.grimmstories.com/de/grimm_maerchen/der_bauer_und_der_teufel\">Der Bauer und der Teufel</a>,\n",
       " <a href=\"http://www.grimmstories.com/de/grimm_maerchen/die_brosamen_auf_dem_tisch\">Die Brosamen auf dem Tisch</a>,\n",
       " <a href=\"http://www.grimmstories.com/de/grimm_maerchen/das_meerhaeschen\">Das Meerh\\xe4schen</a>,\n",
       " <a href=\"http://www.grimmstories.com/de/grimm_maerchen/der_meisterdieb\">Der Meisterdieb</a>,\n",
       " <a href=\"http://www.grimmstories.com/de/grimm_maerchen/der_trommler\">Der Trommler</a>,\n",
       " <a href=\"http://www.grimmstories.com/de/grimm_maerchen/die_kornaehre\">Die Korn\\xe4hre</a>,\n",
       " <a href=\"http://www.grimmstories.com/de/grimm_maerchen/der_grabhuegel\">Der Grabh\\xfcgel</a>,\n",
       " <a href=\"http://www.grimmstories.com/de/grimm_maerchen/oll_rinkrank\">Oll Rinkrank</a>,\n",
       " <a href=\"http://www.grimmstories.com/de/grimm_maerchen/die_kristallkugel\">Die Kristallkugel</a>,\n",
       " <a href=\"http://www.grimmstories.com/de/grimm_maerchen/jungfrau_maleen\">Jungfrau Maleen</a>,\n",
       " <a href=\"http://www.grimmstories.com/de/grimm_maerchen/der_stiefel_von_bueffelleder\">Die Stiefel von B\\xfcffelleder</a>,\n",
       " <a href=\"http://www.grimmstories.com/de/grimm_maerchen/der_goldene_schluessel\">Der goldene Schl\\xfcssel</a>,\n",
       " <a href=\"http://www.grimmstories.com/de/grimm_maerchen/der_heilige_joseph_im_walde\">Der heilige Joseph im Walde</a>,\n",
       " <a href=\"http://www.grimmstories.com/de/grimm_maerchen/die_zwoelf_apostel\">Die zw\\xf6lf Apostel</a>,\n",
       " <a href=\"http://www.grimmstories.com/de/grimm_maerchen/die_rose\">Die Rose</a>,\n",
       " <a href=\"http://www.grimmstories.com/de/grimm_maerchen/armut_und_demut_fuehren_zum_himmel\">Armut und Demut f\\xfchren zum Himmel</a>,\n",
       " <a href=\"http://www.grimmstories.com/de/grimm_maerchen/gottes_speise\">Gottes Speise</a>,\n",
       " <a href=\"http://www.grimmstories.com/de/grimm_maerchen/die_drei_gruenen_zweige\">Die drei gr\\xfcnen Zweige</a>,\n",
       " <a href=\"http://www.grimmstories.com/de/grimm_maerchen/muttergottesglaeschen\">Muttergottesgl\\xe4schen</a>,\n",
       " <a href=\"http://www.grimmstories.com/de/grimm_maerchen/das_alte_muetterchen\">Das alte M\\xfctterchen</a>,\n",
       " <a href=\"http://www.grimmstories.com/de/grimm_maerchen/die_himmlische_hochzeit\">Die himmlische Hochzeit</a>,\n",
       " <a href=\"http://www.grimmstories.com/de/grimm_maerchen/die_haselrute\">Die Haselrute</a>,\n",
       " <a href=\"http://www.grimmstories.com/de/grimm_maerchen/der_gestiefelte_kater\">Der gestiefelte Kater</a>,\n",
       " <a href=\"http://www.grimmstories.com/de/grimm_maerchen/die_hand_mit_dem_messer\">Die Hand mit dem Messer</a>,\n",
       " <a href=\"http://www.grimmstories.com/de/grimm_maerchen/wie_kinder_schlachtens_miteinander_gespielt_haben\">Wie Kinder Schlachtens miteinander gespielt haben</a>,\n",
       " <a href=\"http://www.grimmstories.com/de/grimm_maerchen/der_tod_und_der_gansehirt\">Der Tod und der G\\xe4nsehirt</a>,\n",
       " <a href=\"http://www.grimmstories.com/de/grimm_maerchen/von_der_nachtigall_und_der_blindschleiche\">Von der Nachtigall und der Blindschleiche</a>,\n",
       " <a href=\"http://www.grimmstories.com/de/grimm_maerchen/von_der_serviette_dem_tornister_dem_kanonenhuetlein_und_dem_horn\">Von der Serviette, dem Tornister, dem Kanonenh\\xfctlein und dem Horn</a>,\n",
       " <a href=\"http://www.grimmstories.com/de/grimm_maerchen/die_wunderliche_gasterei\">Die wunderliche Gasterei</a>,\n",
       " <a href=\"http://www.grimmstories.com/de/grimm_maerchen/hans_dumm\">Hans Dumm</a>,\n",
       " <a href=\"http://www.grimmstories.com/de/grimm_maerchen/blaubart\">Blaubart</a>,\n",
       " <a href=\"http://www.grimmstories.com/de/grimm_maerchen/hurleburlebutz\">Hurleburlebutz</a>,\n",
       " <a href=\"http://www.grimmstories.com/de/grimm_maerchen/der_okerlo\">Der Okerlo</a>,\n",
       " <a href=\"http://www.grimmstories.com/de/grimm_maerchen/prinzessin_maeusehaut\">Prinzessin M\\xe4usehaut</a>,\n",
       " <a href=\"http://www.grimmstories.com/de/grimm_maerchen/favorites\"><img alt=\"\" class=\"list_image_small\" height=\"60\" src=\"/images/sprookjes/list/101.jpg\" width=\"60\"/><span class=\"list_height\">Die sch\\xf6nsten M\\xe4rchen der Br\\xfcder Grimm</span><br/>\\n          <span class=\"list_url\">Die sch\\xf6nsten M\\xe4rchen \\u2192</span></a>,\n",
       " <a class=\"twitter-share-button\" data-lang=\"de\" href=\"https://twitter.com/share\"></a>,\n",
       " <a href=\"#top\"><img alt=\"\" class=\"footerimage\" src=\"/images/up.gif\"/></a>,\n",
       " <a href=\"/cookies.php\">cookies</a>,\n",
       " <a href=\"http://www.grimmstories.com/\">grimmstories.com</a>,\n",
       " <a href=\"http://www.grimmstories.com/\">grimmstories.com</a>,\n",
       " <a href=\"http://www.grimmstories.com/da/grimm_eventyr/index\">Grimms eventyr</a>,\n",
       " <a href=\"http://www.grimmstories.com/de/grimm_maerchen/index\" itemprop=\"relatedLink\">Grimms M\\xe4rchen</a>,\n",
       " <a href=\"http://www.grimmstories.com/en/grimm_fairy-tales/index\">Grimms' Fairy Tales</a>,\n",
       " <a href=\"http://www.grimmstories.com/es/grimm_cuentos/index\">Cuentos de Grimm</a>,\n",
       " <a href=\"http://www.grimmstories.com/fi/grimm_sadut/index\">Grimmin sadut</a>,\n",
       " <a href=\"http://www.grimmstories.com/fr/grimm_contes/index\">Contes de Grimm</a>,\n",
       " <a href=\"http://www.grimmstories.com/hu/grimm_mesek/index\">Grimm mes\\xe9k</a>,\n",
       " <a href=\"http://www.grimmstories.com/it/grimm_fiabe/index\">Fiabe dei Grimm</a>,\n",
       " <a href=\"http://www.grimmstories.com/ja/grimm_dowa/index\">\\u30b0\\u30ea\\u30e0\\u7ae5\\u8a71</a>,\n",
       " <a href=\"http://www.grimmstories.com/ko/grimm_donghwa/index\">\\uadf8\\ub9bc \\ub3d9\\ud654</a>,\n",
       " <a href=\"http://www.grimmstories.com/nl/grimm_sprookjes/index\">Sprookjes van Grimm</a>,\n",
       " <a href=\"http://www.grimmstories.com/pl/grimm_basnie/index\">Ba\\u015bnie braci Grimm</a>,\n",
       " <a href=\"http://www.grimmstories.com/pt/grimm_contos/index\">Contos de Grimm</a>,\n",
       " <a href=\"http://www.grimmstories.com/ro/grimm_basme/index\">Pove\\u015fti de Grimm</a>,\n",
       " <a href=\"http://www.grimmstories.com/ru/grimm_skazki/index\">\\u0421\\u043a\\u0430\\u0437\\u043a\\u0438 \\u0431\\u0440\\u0430\\u0442\\u044c\\u0435\\u0432 \\u0413\\u0440\\u0438\\u043c\\u043c</a>,\n",
       " <a href=\"http://www.grimmstories.com/tr/grimm_masallari/index\">Grimm Masallar\\u0131</a>,\n",
       " <a href=\"http://www.grimmstories.com/vi/grimm_truyen/index\">Truy\\u1ec7n c\\u1ed5 Grimm</a>,\n",
       " <a href=\"http://www.grimmstories.com/zh/grimm_tonghua/index\">\\u683c\\u6797\\u7ae5\\u8a71</a>,\n",
       " <a href=\"http://www.verhalenalmanak.nl/\">Volksverhalen Almanak</a>,\n",
       " <a href=\"http://www.feestenalmanak.nl/\">Wereld Feesten Almanak</a>,\n",
       " <a href=\"http://www.beleven.org/vandaagdedag/\">Vandaag de dag</a>,\n",
       " <a href=\"http://www.andersenstories.com/\">andersenstories.com</a>,\n",
       " <a href=\"http://www.andersenstories.com/da/andersen_fortaellinger/index\">Andersens eventyr</a>,\n",
       " <a href=\"http://www.andersenstories.com/de/andersen_maerchen/index\" itemprop=\"relatedLink\">Andersens M\\xe4rchen</a>,\n",
       " <a href=\"http://www.andersenstories.com/en/andersen_fairy-tales/index\">Andersen's Fairy Tales</a>,\n",
       " <a href=\"http://www.andersenstories.com/es/andersen_cuentos/index\">Cuentos de Andersen</a>,\n",
       " <a href=\"http://www.andersenstories.com/fr/andersen_contes/index\">Contes d'Andersen</a>,\n",
       " <a href=\"http://www.andersenstories.com/it/andersen_fiabe/index\">Fiabe di Andersen</a>,\n",
       " <a href=\"http://www.andersenstories.com/nl/andersen_sprookjes/index\">Sprookjes van Andersen</a>]"
      ]
     },
     "execution_count": 125,
     "metadata": {},
     "output_type": "execute_result"
    }
   ],
   "source": [
    "r = urllib.urlopen('http://www.grimmstories.com/de/grimm_maerchen/list').read()\n",
    "soup = BeautifulSoup(r)\n",
    "soup.findAll('a')\n"
   ]
  },
  {
   "cell_type": "code",
   "execution_count": null,
   "metadata": {
    "collapsed": true
   },
   "outputs": [],
   "source": []
  }
 ],
 "metadata": {
  "kernelspec": {
   "display_name": "Python 2",
   "language": "python",
   "name": "python2"
  },
  "language_info": {
   "codemirror_mode": {
    "name": "ipython",
    "version": 2
   },
   "file_extension": ".py",
   "mimetype": "text/x-python",
   "name": "python",
   "nbconvert_exporter": "python",
   "pygments_lexer": "ipython2",
   "version": "2.7.13"
  }
 },
 "nbformat": 4,
 "nbformat_minor": 2
}
