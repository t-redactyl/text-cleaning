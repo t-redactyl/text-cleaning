{
 "cells": [
  {
   "cell_type": "markdown",
   "metadata": {},
   "source": [
    "# Chapter 1: Getting text data for analysis\n",
    "\n",
    "One of the best sources of data for text mining is, of course, the web. There are two main ways of sourcing text data. If we are lucky, a website will have a public API, which is simply an endpoint that we can query and extract data from. If we are unlucky, we will need to scrape the website, which is much messier and can require a bit more clean up.\n",
    "\n",
    "For this book, we will be analysing Grimm's fairytales. The [full set](https://en.wikipedia.org/wiki/Grimms%27_Fairy_Tales) of these comprises of 201 stories and 10 legends, and was originally published in German as *Kinder- und Hausmärchen* (*Children's and Household Tales*) in 1812, and translated to English in *Household Tales by the Brothers Grimm* in 1884. Given that there are no sites hosting these tables with a public API, we will need to scrape some sites to put together our dataset. As such, I won't cover accessing data through an API in this book, but if you are interested in getting data this way you can have a look at a couple of previous text mining projects I have done using data from the [reddit](http://t-redactyl.io/blog/2015/11/analysing-reddit-data-part-1-setting-up-the-environment.html) and [Twitter](http://t-redactyl.io/blog/2017/04/applying-sentiment-analysis-with-vader-and-the-twitter-api.html) APIs.\n",
    "\n",
    "## Getting the text - the hacky version\n",
    "\n",
    "The idea behind web scraping is not too complicated: we want to retrieve data which is on a website (usually in HTML format) and convert it into a format that we can use for an analysis (generally a dataframe). The tricky part can be finding the correct way to select the content that is relevant to us, as websites contain a lot of stuff that we probably don't need. To do this, we need to find the HTML tag(s) that identify the content we want, and pray that the people who built the website have used the tags consistently for the same types of information! I find that the easiest way to identify the relevant tags for your data is to use the developer tools inbuilt into browsers like Chrome. Let's talk through this with a concrete example.\n",
    "\n",
    "### English-language tales\n",
    "\n",
    "We will be pulling the English-language tales from [this website](http://www.worldoftales.com/fairy_tales/Grimm_fairy_tales_Margaret_Hunt.html). Once we've navigated to this page, we can open up our developer tools (in Chrome) by right-clicking and selecting 'Inspect'.\n",
    "\n",
    "<img src=\"/figure/Chapter 1.1.png\" title=\"Developer tools 1\" style=\"display: block; margin: auto;\" />\n",
    "\n",
    "Once you’ve done that the developer tools will open on the right of the screen. In the image above, I have highlighted a button that allows you to view the tags associated with any element of the page. If you click on this and select one of the tale names, it will take you to the title tag, like so:\n",
    "\n",
    "<img src=\"/figure/Chapter 1.2.png\" title=\"Developer tools 2\" style=\"display: block; margin: auto;\" />\n",
    "\n",
    "Looking at the first tale, *The Frog-King, or Iron Henry*, we can see that the link is tagged with ['a'](https://www.w3schools.com/tags/tag_a.asp), which indicates it is a hyperlink, and 'href', which gives the link's destination. A quick look down the list of tales indicates that they have the same tagging, which means we can use this to pull out a list of the URLs linking to the full tale text. We can now use a package called `bs4` (short for BeautifulSoup 4), as well as `urllib` and `urlparse` to help us extract these URLs from this mess of HTML. Let's start by installing the packages:"
   ]
  },
  {
   "cell_type": "code",
   "execution_count": 21,
   "metadata": {},
   "outputs": [],
   "source": [
    "from bs4 import BeautifulSoup\n",
    "import urllib\n",
    "import urlparse"
   ]
  },
  {
   "cell_type": "markdown",
   "metadata": {},
   "source": [
    "We then open a read-only connection to our website using the `urlopen` and `read()` methods from the `urllib` package."
   ]
  },
  {
   "cell_type": "code",
   "execution_count": 62,
   "metadata": {
    "collapsed": true
   },
   "outputs": [],
   "source": [
    "conn = urllib.urlopen('http://www.worldoftales.com/fairy_tales/Grimm_fairy_tales_Margaret_Hunt.html').read()"
   ]
  },
  {
   "cell_type": "markdown",
   "metadata": {},
   "source": [
    "We can now pass this connection to BeautifulSoup, which will parse out all of the webiste elements and allow us to start finding and extracting our URLs."
   ]
  },
  {
   "cell_type": "code",
   "execution_count": 63,
   "metadata": {},
   "outputs": [],
   "source": [
    "main_page = BeautifulSoup(conn, \"html5lib\")"
   ]
  },
  {
   "cell_type": "markdown",
   "metadata": {},
   "source": [
    "The method we need to use from BeautifulSoup is `find_all()`. [This method](https://www.crummy.com/software/BeautifulSoup/bs4/doc/#find-all) has a couple of arguments of interest to us. The first, the `name` argument, will only search for tags with certain names. We will tell it to only search for tags called 'a'."
   ]
  },
  {
   "cell_type": "code",
   "execution_count": null,
   "metadata": {},
   "outputs": [],
   "source": [
    "main_page.find_all('a')"
   ]
  },
  {
   "cell_type": "markdown",
   "metadata": {},
   "source": [
    "You can see this has returned *all* of the URLs on this page, including stuff that is not relevant to our analysis. Luckily we can use [another argument](https://www.crummy.com/software/BeautifulSoup/bs4/doc/#the-keyword-arguments), `href`, which allows us to filter URLs using regular expressions. Let's only keep those that contain 'Brothers_Grimm'."
   ]
  },
  {
   "cell_type": "code",
   "execution_count": 65,
   "metadata": {},
   "outputs": [
    {
     "data": {
      "text/plain": [
       "[<a href=\"Brothers_Grimm/Margaret_Hunt/The_Frog-King,_or_Iron_Henry.html\">1.The Frog-King, or Iron Henry</a>,\n",
       " <a href=\"Brothers_Grimm/Margaret_Hunt/Cat_and_Mouse_in_Partnership.html\">2.Cat and Mouse in Partnership</a>,\n",
       " <a href=\"Brothers_Grimm/Margaret_Hunt/Our_Lady's_Child.html\"> 3.Our Lady's Child</a>,\n",
       " <a href=\"Brothers_Grimm/Margaret_Hunt/The_Story_of_the_Youth_who_Went_Forth_to_Learn_What_Fear_Was.html\">  4.The Story of the Youth who Went Forth to Learn What Fear Was</a>,\n",
       " <a href=\"Brothers_Grimm/Margaret_Hunt/The_Wolf_and_The_Seven_Little_Kids.html\"> 5.The Wolf and The Seven Little Kids </a>,\n",
       " <a href=\"Brothers_Grimm/Margaret_Hunt/Faithful_John.html\">6.Faithful John</a>,\n",
       " <a href=\"Brothers_Grimm/Margaret_Hunt/The_Good_Bargain.html\">7.The Good Bargain</a>,\n",
       " <a href=\"Brothers_Grimm/Margaret_Hunt/The_Wonderful_Musician.html\">8.The Wonderful Musician</a>,\n",
       " <a href=\"Brothers_Grimm/Margaret_Hunt/The_Twelve_Brothers.html\">9.The Twelve Brothers</a>,\n",
       " <a href=\"Brothers_Grimm/Margaret_Hunt/The_Pack_of_Ragamuffins.html\"> 10.The Pack of Ragamuffins </a>,\n",
       " <a href=\"Brothers_Grimm/Margaret_Hunt/Brother_and_Sister.html\">11.Brother and Sister</a>,\n",
       " <a href=\"Brothers_Grimm/Margaret_Hunt/Rapunzel.html\"> 12.Rapunzel</a>,\n",
       " <a href=\"Brothers_Grimm/Margaret_Hunt/The_Three_Little_Men_in_the_Wood.html\">13.The Three Little Men in the Wood</a>,\n",
       " <a href=\"Brothers_Grimm/Margaret_Hunt/The_Three_Spinning_Women.html\">14.The Three Spinning Women</a>,\n",
       " <a href=\"Brothers_Grimm/Margaret_Hunt/Hansel_and_Grethel.html\"> 15.Hansel and Grethel</a>,\n",
       " <a href=\"Brothers_Grimm/Margaret_Hunt/The_Three_Snake-Leaves.html\"> 16.The Three Snake-Leaves</a>,\n",
       " <a href=\"Brothers_Grimm/Margaret_Hunt/The_White_Snake.html\"> 17.The White Snake</a>,\n",
       " <a href=\"Brothers_Grimm/Margaret_Hunt/The_Straw,_The_Coal,_and_the_Bean.html\">  18.The Straw, The Coal, and the Bean</a>,\n",
       " <a href=\"Brothers_Grimm/Margaret_Hunt/The_Fisherman_and_his_Wife.html\"> 19.The Fisherman and his Wife </a>,\n",
       " <a href=\"Brothers_Grimm/Margaret_Hunt/The_Valiant_Little_Tailor.html\">20.The Valiant Little Tailor</a>,\n",
       " <a href=\"Brothers_Grimm/Margaret_Hunt/Cinderella.html\"> 21.Cinderella</a>,\n",
       " <a href=\"Brothers_Grimm/Margaret_Hunt/The_Riddle.html\"> 22.The Riddle</a>,\n",
       " <a href=\"Brothers_Grimm/Margaret_Hunt/The_Mouse,_The_Bird,_and_the_Sausage.html\">23.The Mouse, The Bird, and the Sausage</a>,\n",
       " <a href=\"Brothers_Grimm/Margaret_Hunt/Mother_Holle.html\">24.Mother Holle</a>,\n",
       " <a href=\"Brothers_Grimm/Margaret_Hunt/The_Seven_Ravens.html\"> 25.The Seven Ravens</a>,\n",
       " <a href=\"Brothers_Grimm/Margaret_Hunt/Little_Red-Cap.html\"> 26.Little Red-Cap</a>,\n",
       " <a href=\"Brothers_Grimm/Margaret_Hunt/The_Bremen_Town-Musicians.html\">  27.The Bremen Town-Musicians</a>,\n",
       " <a href=\"Brothers_Grimm/Margaret_Hunt/The_Singing_Bone.html\"> 28.The Singing Bone</a>,\n",
       " <a href=\"Brothers_Grimm/Margaret_Hunt/The_Devil_with_the_Three_Golden_Hairs.html\">29.The Devil with the Three Golden Hairs </a>,\n",
       " <a href=\"Brothers_Grimm/Margaret_Hunt/The_Louse_and_the_Flea.html\">30.The Louse and the Flea</a>,\n",
       " <a href=\"Brothers_Grimm/Margaret_Hunt/The_Girl_Without_Hands.html\"> 31.The Girl Without Hands</a>,\n",
       " <a href=\"Brothers_Grimm/Margaret_Hunt/Clever_Hans.html\"> 32.Clever Hans </a>,\n",
       " <a href=\"Brothers_Grimm/Margaret_Hunt/The_Three_Languages.html\"> 33.The Three Languages</a>,\n",
       " <a href=\"Brothers_Grimm/Margaret_Hunt/Clever_Elsie.html\"> 34.Clever Elsie</a>,\n",
       " <a href=\"Brothers_Grimm/Margaret_Hunt/The_Tailor_in_Heaven.html\">   35.The Tailor in Heaven </a>,\n",
       " <a href=\"Brothers_Grimm/Margaret_Hunt/The_Wishing-Table,_The Gold-Ass,_and_the_Cudgel_in_the_Sack.html\">  36.The Wishing-Table, The Gold-Ass, and the Cudgel in the Sack</a>,\n",
       " <a href=\"Brothers_Grimm/Margaret_Hunt/Thumbling.html\"> 37.Thumbling</a>,\n",
       " <a href=\"Brothers_Grimm/Margaret_Hunt/The_Wedding_of_Mrs._Fox.html\"> 38.The Wedding of Mrs. Fox</a>,\n",
       " <a href=\"Brothers_Grimm/Margaret_Hunt/The_Elves.html\"> 39.The Elves</a>,\n",
       " <a href=\"Brothers_Grimm/Margaret_Hunt/The_Robber_Bridegroom.html\"> 40. The Robber Bridegroom</a>,\n",
       " <a href=\"Brothers_Grimm/Margaret_Hunt/Herr_Korbes.html\"> 41.Herr Korbes</a>,\n",
       " <a href=\"Brothers_Grimm/Margaret_Hunt/The_Godfather.html\"> 42.The Godfather</a>,\n",
       " <a href=\"Brothers_Grimm/Margaret_Hunt/Frau_Trude.html\"> 43.Frau Trude</a>,\n",
       " <a href=\"Brothers_Grimm/Margaret_Hunt/Godfather_Death.html\">   44.Godfather Death</a>,\n",
       " <a href=\"Brothers_Grimm/Margaret_Hunt/Thumbling_as_Journeyman.html\">45.Thumbling as Journeyman</a>,\n",
       " <a href=\"Brothers_Grimm/Margaret_Hunt/Fitcher's_Bird.html\">46.Fitcher's Bird</a>,\n",
       " <a href=\"Brothers_Grimm/Margaret_Hunt/The_Juniper-Tree.html\"> 47.The Juniper-Tree</a>,\n",
       " <a href=\"Brothers_Grimm/Margaret_Hunt/Old_Sultan.html\">        48.Old Sultan</a>,\n",
       " <a href=\"Brothers_Grimm/Margaret_Hunt/The_Six_Swans.html\"> 49.The Six Swans</a>,\n",
       " <a href=\"Brothers_Grimm/Margaret_Hunt/Briar-Rose.html\">50.Briar-Rose</a>,\n",
       " <a href=\"Brothers_Grimm/Margaret_Hunt/Fundevogel.html\">51.Fundevogel</a>,\n",
       " <a href=\"Brothers_Grimm/Margaret_Hunt/King_Thrushbeard.html\"> 52.King Thrushbeard</a>,\n",
       " <a href=\"Brothers_Grimm/Margaret_Hunt/Little_Snow-white.html\">  53.Little Snow-white</a>,\n",
       " <a href=\"Brothers_Grimm/Margaret_Hunt/The_Knapsack,_the_Hat,_and_the_Horn.html\">   54.The Knapsack, the Hat, and the Horn</a>,\n",
       " <a href=\"Brothers_Grimm/Margaret_Hunt/Rumpelstiltskin.html\"> 55.Rumpelstiltskin</a>,\n",
       " <a href=\"Brothers_Grimm/Margaret_Hunt/Sweetheart_Roland.html\"> 56.Sweetheart Roland</a>,\n",
       " <a href=\"Brothers_Grimm/Margaret_Hunt/The_Golden_Bird.html\">57.The Golden Bird</a>,\n",
       " <a href=\"Brothers_Grimm/Margaret_Hunt/The_Dog_and_the_Sparrow.html\"> 58.The Dog and the Sparrow </a>,\n",
       " <a href=\"Brothers_Grimm/Margaret_Hunt/Frederick_and_Catherine.html\">  59.Frederick and Catherine </a>,\n",
       " <a href=\"Brothers_Grimm/Margaret_Hunt/The_Two_Brothers.html\">60.The Two Brothers</a>,\n",
       " <a href=\"Brothers_Grimm/Margaret_Hunt/The_Little_Peasant.html\">61.The Little Peasant</a>,\n",
       " <a href=\"Brothers_Grimm/Margaret_Hunt/The_Queen_Bee.html\">62.The Queen Bee</a>,\n",
       " <a href=\"Brothers_Grimm/Margaret_Hunt/The_Three_Feathers.html\"> 63.The Three Feathers</a>,\n",
       " <a href=\"Brothers_Grimm/Margaret_Hunt/The_Golden_Goose.html\"> 64.The Golden Goose</a>,\n",
       " <a href=\"Brothers_Grimm/Margaret_Hunt/Allerleirauh.html\"> 65.Allerleirauh </a>,\n",
       " <a href=\"Brothers_Grimm/Margaret_Hunt/The_Hare's_Bride.html\">66.The Hare's Bride </a>,\n",
       " <a href=\"Brothers_Grimm/Margaret_Hunt/The_Twelve_Huntsmen.html\">  67.The Twelve Huntsmen </a>,\n",
       " <a href=\"Brothers_Grimm/Margaret_Hunt/The_Thief_and_his_Master.html\">68.The Thief and his Master</a>,\n",
       " <a href=\"Brothers_Grimm/Margaret_Hunt/Jorinda_and_Joringel.html\"> 69.Jorinda and Joringel</a>,\n",
       " <a href=\"Brothers_Grimm/Margaret_Hunt/The_Three_Sons_of_Fortune.html\"> 70.The Three Sons of Fortune</a>,\n",
       " <a href=\"Brothers_Grimm/Margaret_Hunt/How_Six_Men_Got_On_in_the_World.html\">71.How Six Men Got On in the World</a>,\n",
       " <a href=\"Brothers_Grimm/Margaret_Hunt/The_Wolf_and_the_Man.html\">72.The Wolf and the Man</a>,\n",
       " <a href=\"Brothers_Grimm/Margaret_Hunt/The_Wolf_and_the_Fox.html\">73.The Wolf and the Fox</a>,\n",
       " <a href=\"Brothers_Grimm/Margaret_Hunt/The_Fox_and_His_Cousin.html\">74.The Fox and His Cousin</a>,\n",
       " <a href=\"Brothers_Grimm/Margaret_Hunt/The_Fox_and_the_Cat.html\">75.The Fox and the Cat</a>,\n",
       " <a href=\"Brothers_Grimm/Margaret_Hunt/The_Pink.html\">76.The Pink</a>,\n",
       " <a href=\"Brothers_Grimm/Margaret_Hunt/Clever_Grethel.html\">   77.Clever Grethel</a>,\n",
       " <a href=\"Brothers_Grimm/Margaret_Hunt/The_Old_Man_and_his_Grandson.html\"> 78.The Old Man and his Grandson</a>,\n",
       " <a href=\"Brothers_Grimm/Margaret_Hunt/The_Water-Nix.html\"> 79.The Water-Nix</a>,\n",
       " <a href=\"Brothers_Grimm/Margaret_Hunt/The_Death_of_the_Little_Hen.html\">80.The Death of the Little Hen</a>,\n",
       " <a href=\"Brothers_Grimm/Margaret_Hunt/Brother_Lustig.html\">   81.Brother Lustig</a>,\n",
       " <a href=\"Brothers_Grimm/Margaret_Hunt/Gambling_Hansel.html\">82.Gambling Hansel</a>,\n",
       " <a href=\"Brothers_Grimm/Margaret_Hunt/Hans_in_Luck.html\"> 83.Hans in Luck</a>,\n",
       " <a href=\"Brothers_Grimm/Margaret_Hunt/Hans_Married.html\">84.Hans Married</a>,\n",
       " <a href=\"Brothers_Grimm/Margaret_Hunt/The_Gold-Children.html\">85.The Gold-Children</a>,\n",
       " <a href=\"Brothers_Grimm/Margaret_Hunt/The_Fox_and_the_Geese.html\"> 86.The Fox and the Geese</a>,\n",
       " <a href=\"Brothers_Grimm/Margaret_Hunt/The_Poor_Man_and_the_Rich_Man.html\">  87.The Poor Man and the Rich Man</a>,\n",
       " <a href=\"Brothers_Grimm/Margaret_Hunt/The_Singing,_Soaring_Lark.html\">88.The Singing, Soaring Lark</a>,\n",
       " <a href=\"Brothers_Grimm/Margaret_Hunt/The_Goose-Girl.html\">   89.The Goose-Girl</a>,\n",
       " <a href=\"Brothers_Grimm/Margaret_Hunt/The_Young_Giant.html\">  90.The Young Giant</a>,\n",
       " <a href=\"Brothers_Grimm/Margaret_Hunt/The_Gnome.html\">     91.The Gnome</a>,\n",
       " <a href=\"Brothers_Grimm/Margaret_Hunt/The_King_of_the_Golden_Mountain.html\">  92.The King of the Golden Mountain</a>,\n",
       " <a href=\"Brothers_Grimm/Margaret_Hunt/The_Raven.html\"> 93.The Raven</a>,\n",
       " <a href=\"Brothers_Grimm/Margaret_Hunt/The_Peasant's_Wise_Daughter.html\">94.The Peasant's Wise Daughter</a>,\n",
       " <a href=\"Brothers_Grimm/Margaret_Hunt/Old_Hildebrand.html\">95.Old Hildebrand</a>,\n",
       " <a href=\"Brothers_Grimm/Margaret_Hunt/The_Three_Little_Birds.html\">96.The Three Little Birds </a>,\n",
       " <a href=\"Brothers_Grimm/Margaret_Hunt/The_Water_of_Life.html\">97.The Water of Life</a>,\n",
       " <a href=\"Brothers_Grimm/Margaret_Hunt/Doctor_Knowall.html\">98.Doctor Knowall</a>,\n",
       " <a href=\"Brothers_Grimm/Margaret_Hunt/The_Spirit_in_the_Bottle.html\">   99.The Spirit in the Bottle</a>,\n",
       " <a href=\"Brothers_Grimm/Margaret_Hunt/The_Devil's_Sooty_Brother.html\"> 100.The Devil's Sooty Brother</a>,\n",
       " <a href=\"Brothers_Grimm/Margaret_Hunt/Bearskin.html\">  101.Bearskin</a>,\n",
       " <a href=\"Brothers_Grimm/Margaret_Hunt/The_Willow-Wren_And_The_Bear.html\"> 102.The Willow-Wren And The Bear</a>,\n",
       " <a href=\"Brothers_Grimm/Margaret_Hunt/Sweet_Porridge.html\"> 103.Sweet Porridge</a>,\n",
       " <a href=\"Brothers_Grimm/Margaret_Hunt/Wise_Folks.html\"> 104.Wise Folks</a>,\n",
       " <a href=\"Brothers_Grimm/Margaret_Hunt/Stories_about_Snakes.html\">  105.Stories about Snakes</a>,\n",
       " <a href=\"Brothers_Grimm/Margaret_Hunt/The_Poor_Miller's_Boy_and_the_Cat.html\">  106.The Poor Miller's Boy and the Cat</a>,\n",
       " <a href=\"Brothers_Grimm/Margaret_Hunt/The_Two_Travellers.html\"> 107.The Two Travellers</a>,\n",
       " <a href=\"Brothers_Grimm/Margaret_Hunt/Hans_the_Hedgehog.html\">    108.Hans the Hedgehog</a>,\n",
       " <a href=\"Brothers_Grimm/Margaret_Hunt/The_Shroud.html\"> 109.The Shroud</a>,\n",
       " <a href=\"Brothers_Grimm/Margaret_Hunt/The_Jew_among_Thorns.html\"> 110.The Jew among Thorns</a>,\n",
       " <a href=\"Brothers_Grimm/Margaret_Hunt/The_Skilful_Huntsman.html\"> 111.The Skilful Huntsman</a>,\n",
       " <a href=\"Brothers_Grimm/Margaret_Hunt/The_Flail_from_Heaven.html\">  112.The Flail from Heaven</a>,\n",
       " <a href=\"Brothers_Grimm/Margaret_Hunt/The_Two_Kings'_Children.html\"> 113.The Two Kings' Children</a>,\n",
       " <a href=\"Brothers_Grimm/Margaret_Hunt/The_Cunning_Little_Tailor.html\">  114.The Cunning Little Tailor</a>,\n",
       " <a href=\"Brothers_Grimm/Margaret_Hunt/The_Bright_Sun_Brings_It_To_Light.html\"> 115.The Bright Sun Brings It To Light</a>,\n",
       " <a href=\"Brothers_Grimm/Margaret_Hunt/The_Blue_Light.html\"> 116.The Blue Light</a>,\n",
       " <a href=\"Brothers_Grimm/Margaret_Hunt/The_Wilful_Child.html\"> 117.The Wilful Child</a>,\n",
       " <a href=\"Brothers_Grimm/Margaret_Hunt/The_Three_Army-Surgeons.html\">  118.The Three Army-Surgeons</a>,\n",
       " <a href=\"Brothers_Grimm/Margaret_Hunt/The_Seven_Swabians.html\">   119.The Seven Swabians</a>,\n",
       " <a href=\"Brothers_Grimm/Margaret_Hunt/The_Three_Apprentices.html\">   120.The Three Apprentices</a>,\n",
       " <a href=\"Brothers_Grimm/Margaret_Hunt/The_King's_Son_who_Feared_Nothing.html\">      121.The King's Son who Feared Nothing</a>,\n",
       " <a href=\"Brothers_Grimm/Margaret_Hunt/Donkey_Cabbages.html\">  122.Donkey Cabbages</a>,\n",
       " <a href=\"Brothers_Grimm/Margaret_Hunt/The_Old_Woman_in_the_Wood.html\"> 123.The Old Woman in the Wood</a>,\n",
       " <a href=\"Brothers_Grimm/Margaret_Hunt/The_Three_Brothers.html\">124.The Three Brothers</a>,\n",
       " <a href=\"Brothers_Grimm/Margaret_Hunt/The_Devil_and_his_Grandmother.html\"> 125.The Devil and his Grandmother</a>,\n",
       " <a href=\"Brothers_Grimm/Margaret_Hunt/Ferdinand_the_Faithful.html\"> 126.Ferdinand the Faithful</a>,\n",
       " <a href=\"Brothers_Grimm/Margaret_Hunt/The_Iron_Stove.html\"> 127.The Iron Stove</a>,\n",
       " <a href=\"Brothers_Grimm/Margaret_Hunt/The_Lazy_Spinner.html\">  128.The Lazy Spinner</a>,\n",
       " <a href=\"Brothers_Grimm/Margaret_Hunt/The_Four_Skilful_Brothers.html\">129.The Four Skilful Brothers</a>,\n",
       " <a href=\"Brothers_Grimm/Margaret_Hunt/One-Eye,_Two-Eyes,_and_Three-Eyes.html\"> 130.One-Eye, Two-Eyes, and Three-Eyes</a>,\n",
       " <a href=\"Brothers_Grimm/Margaret_Hunt/Fair_Katrinelje_and_Pif-Paf-Poltrie.html\">131.Fair Katrinelje and Pif-Paf-Poltrie</a>,\n",
       " <a href=\"Brothers_Grimm/Margaret_Hunt/The_Fox_and_the_Horse.html\"> 132.The Fox and the Horse</a>,\n",
       " <a href=\"Brothers_Grimm/Margaret_Hunt/The_Shoes_that_Were_Danced_to_Pieces.html\">  133.The Shoes that Were Danced to Pieces</a>,\n",
       " <a href=\"Brothers_Grimm/Margaret_Hunt/The_Six_Servants.html\">134.The Six Servants</a>,\n",
       " <a href=\"Brothers_Grimm/Margaret_Hunt/The_White_Bride_and_the_Black_One.html\">  135.The White Bride and the Black One</a>,\n",
       " <a href=\"Brothers_Grimm/Margaret_Hunt/Iron_John.html\"> 136.Iron John</a>,\n",
       " <a href=\"Brothers_Grimm/Margaret_Hunt/The_Three_Black_Princesses.html\">  137.The Three Black Princesses</a>,\n",
       " <a href=\"Brothers_Grimm/Margaret_Hunt/Knoist_and_his_Three_Sons.html\">138.Knoist and his Three Sons</a>,\n",
       " <a href=\"Brothers_Grimm/Margaret_Hunt/The_Maid_of_Brakel.html\">    139.The Maid of Brakel</a>,\n",
       " <a href=\"Brothers_Grimm/Margaret_Hunt/Domestic_Servants.html\">  140.Domestic Servants</a>,\n",
       " <a href=\"Brothers_Grimm/Margaret_Hunt/The_Lambkin_and_the_Little_Fish.html\"> 141.The Lambkin and the Little Fish</a>,\n",
       " <a href=\"Brothers_Grimm/Margaret_Hunt/Simeli_Mountain.html\">  142.Simeli Mountain</a>,\n",
       " <a href=\"Brothers_Grimm/Margaret_Hunt/Going_A-Travelling.html\">  143.Going A-Travelling</a>,\n",
       " <a href=\"Brothers_Grimm/Margaret_Hunt/The_Donkey.html\">144.The Donkey</a>,\n",
       " <a href=\"Brothers_Grimm/Margaret_Hunt/The_Ungrateful_Son.html\">  145.The Ungrateful Son</a>,\n",
       " <a href=\"Brothers_Grimm/Margaret_Hunt/The_Turnip.html\"> 146.The Turnip</a>,\n",
       " <a href=\"Brothers_Grimm/Margaret_Hunt/The_Old_Man_Made_Young_Again.html\">  147.The Old Man Made Young Again</a>,\n",
       " <a href=\"Brothers_Grimm/Margaret_Hunt/The_Lord's_Animals_and_the_Devil's.html\">148.The Lord's Animals and the Devil's</a>,\n",
       " <a href=\"Brothers_Grimm/Margaret_Hunt/The_Beam.html\"> 149.The Beam</a>,\n",
       " <a href=\"Brothers_Grimm/Margaret_Hunt/The_Old_Beggar-Woman.html\"> 150.The Old Beggar-Woman</a>,\n",
       " <a href=\"Brothers_Grimm/Margaret_Hunt/The_Three_Sluggards.html\"> 151.I.The Three Sluggards</a>,\n",
       " <a href=\"Brothers_Grimm/Margaret_Hunt/The_Twelve_Idle_Servants.html\">  151.II.The Twelve Idle Servants</a>,\n",
       " <a href=\"Brothers_Grimm/Margaret_Hunt/The_Shepherd_Boy.html\">   152.The Shepherd Boy</a>,\n",
       " <a href=\"Brothers_Grimm/Margaret_Hunt/The_Star-Money.html\"> 153.The Star-Money</a>,\n",
       " <a href=\"Brothers_Grimm/Margaret_Hunt/The_Stolen_Farthings.html\"> 154.The Stolen Farthings</a>,\n",
       " <a href=\"Brothers_Grimm/Margaret_Hunt/Brides_On_Their_Trial.html\">155.Brides On Their Trial</a>,\n",
       " <a href=\"Brothers_Grimm/Margaret_Hunt/Odds_and_Ends.html\">156.Odds and Ends</a>,\n",
       " <a href=\"Brothers_Grimm/Margaret_Hunt/The_Sparrow_and_his_Four_Children.html\">  157.The Sparrow and his Four Children</a>,\n",
       " <a href=\"Brothers_Grimm/Margaret_Hunt/The_Story_of_Schlauraffen_Land.html\"> 158.The Story of Schlauraffen Land</a>,\n",
       " <a href=\"Brothers_Grimm/Margaret_Hunt/The_Ditmarsch_Tale_of_Wonders.html\">   159.The Ditmarsch Tale of Wonders</a>,\n",
       " <a href=\"Brothers_Grimm/Margaret_Hunt/A_Riddling_Tale.html\"> 160.A Riddling Tale</a>,\n",
       " <a href=\"Brothers_Grimm/Margaret_Hunt/Snow-White_and_Rose-Red.html\"> 161.Snow-White and Rose-Red</a>,\n",
       " <a href=\"Brothers_Grimm/Margaret_Hunt/The_Wise_Servant.html\">    162.The Wise Servant</a>,\n",
       " <a href=\"Brothers_Grimm/Margaret_Hunt/The_Glass_Coffin.html\">   163.The Glass Coffin</a>,\n",
       " <a href=\"Brothers_Grimm/Margaret_Hunt/Lazy_Harry.html\">   164.Lazy Harry</a>,\n",
       " <a href=\"Brothers_Grimm/Margaret_Hunt/The_Griffin.html\">   165.The Griffin</a>,\n",
       " <a href=\"Brothers_Grimm/Margaret_Hunt/Strong_Hans.html\">166.Strong Hans</a>,\n",
       " <a href=\"Brothers_Grimm/Margaret_Hunt/The_Peasant_in_Heaven.html\"> 167.The Peasant in Heaven</a>,\n",
       " <a href=\"Brothers_Grimm/Margaret_Hunt/Lean_Lisa.html\">168.Lean Lisa</a>,\n",
       " <a href=\"Brothers_Grimm/Margaret_Hunt/The_Hut_in_the_Forest.html\">    169.The Hut in the Forest</a>,\n",
       " <a href=\"Brothers_Grimm/Margaret_Hunt/Sharing_Joy_and_Sorrow.html\"> 170.Sharing Joy and Sorrow</a>,\n",
       " <a href=\"Brothers_Grimm/Margaret_Hunt/The_Willow-Wren.html\"> 171.The Willow-Wren</a>,\n",
       " <a href=\"Brothers_Grimm/Margaret_Hunt/The_Sole.html\">  172.The Sole</a>,\n",
       " <a href=\"Brothers_Grimm/Margaret_Hunt/The_Bittern_and_the_Hoopoe.html\"> 173.The Bittern and the Hoopoe</a>,\n",
       " <a href=\"Brothers_Grimm/Margaret_Hunt/The_Owl.html\">   174.The Owl</a>,\n",
       " <a href=\"Brothers_Grimm/Margaret_Hunt/The_Moon.html\">  175.The Moon</a>,\n",
       " <a href=\"Brothers_Grimm/Margaret_Hunt/The_Duration_Of_Life.html\">      176.The Duration Of Life</a>,\n",
       " <a href=\"Brothers_Grimm/Margaret_Hunt/Death's_Messengers.html\"> 177.Death's Messengers</a>,\n",
       " <a href=\"Brothers_Grimm/Margaret_Hunt/Master_Pfriem.html\"> 178.Master Pfriem</a>,\n",
       " <a href=\"Brothers_Grimm/Margaret_Hunt/The_Goose-Girl_at_the_Well.html\">179.The Goose-Girl at the Well</a>,\n",
       " <a href=\"Brothers_Grimm/Margaret_Hunt/Eve's_Various_Children.html\">180.Eve's Various Children</a>,\n",
       " <a href=\"Brothers_Grimm/Margaret_Hunt/The_Nix_of_the_Mill-Pond.html\">181.The Nix of the Mill-Pond</a>,\n",
       " <a href=\"Brothers_Grimm/Margaret_Hunt/The_Little_Folks' Presents.html\">  182.The Little Folks' Presents</a>,\n",
       " <a href=\"Brothers_Grimm/Margaret_Hunt/The_Giant_and_the_Tailor.html\"> 183.The Giant and the Tailor</a>,\n",
       " <a href=\"Brothers_Grimm/Margaret_Hunt/The_Nail.html\"> 184.The Nail</a>,\n",
       " <a href=\"Brothers_Grimm/Margaret_Hunt/The_Poor_Boy_in_the_Grave.html\"> 185.The Poor Boy in the Grave</a>,\n",
       " <a href=\"Brothers_Grimm/Margaret_Hunt/The_True_Sweethearts.html\">  186.The True Sweethearts</a>,\n",
       " <a href=\"Brothers_Grimm/Margaret_Hunt/The_Hare_And_The_Hedgehog_The_Hare_And The_Hedgehog.html\">187.The Hare And The Hedgehog</a>,\n",
       " <a href=\"Brothers_Grimm/Margaret_Hunt/The_Spindle,_The_Shuttle,_and_the_Needle.html\"> 188.The Spindle, The Shuttle, and the Needle</a>,\n",
       " <a href=\"Brothers_Grimm/Margaret_Hunt/The_Peasant_And_The_Devil.html\"> 189.The Peasant And The Devil</a>,\n",
       " <a href=\"Brothers_Grimm/Margaret_Hunt/The_Crumbs_on_The_table.html\">  190.The Crumbs on The table</a>,\n",
       " <a href=\"Brothers_Grimm/Margaret_Hunt/The_Sea-Hare.html\">  191.The Sea-Hare</a>,\n",
       " <a href=\"Brothers_Grimm/Margaret_Hunt/The_Master-Thief.html\">  192.The Master-Thief</a>,\n",
       " <a href=\"Brothers_Grimm/Margaret_Hunt/The_Drummer.html\"> 193.The Drummer</a>,\n",
       " <a href=\"Brothers_Grimm/Margaret_Hunt/The_Ear_of_Corn.html\"> 194.The Ear of Corn</a>,\n",
       " <a href=\"Brothers_Grimm/Margaret_Hunt/The_Grave-Mound.html\">  195.The Grave-Mound</a>,\n",
       " <a href=\"Brothers_Grimm/Margaret_Hunt/Old_Rinkrank.html\"> 196.Old Rinkrank</a>,\n",
       " <a href=\"Brothers_Grimm/Margaret_Hunt/The_Crystal_Ball.html\"> 197.The Crystal Ball</a>,\n",
       " <a href=\"Brothers_Grimm/Margaret_Hunt/Maid_Maleen.html\"> 198.Maid Maleen</a>,\n",
       " <a href=\"Brothers_Grimm/Margaret_Hunt/The_Boots_of_Buffalo-Leather.html\"> 199.The Boots of Buffalo-Leather</a>,\n",
       " <a href=\"Brothers_Grimm/Margaret_Hunt/The_Golden_Key.html\">  200.The Golden Key</a>,\n",
       " <a href=\"Brothers_Grimm/Margaret_Hunt/St._Joseph_in_the_Forest.html\">1.St. Joseph in the Forest</a>,\n",
       " <a href=\"Brothers_Grimm/Margaret_Hunt/The_Twelve_Apostles.html\">  2.The Twelve Apostles</a>,\n",
       " <a href=\"Brothers_Grimm/Margaret_Hunt/The_Rose.html\">3.The Rose</a>,\n",
       " <a href=\"Brothers_Grimm/Margaret_Hunt/Poverty_and_Humility_lead_to_Heaven.html\"> 4.Poverty and Humility lead to Heaven</a>,\n",
       " <a href=\"Brothers_Grimm/Margaret_Hunt/God's_Food.html\"> 5.God's Food</a>,\n",
       " <a href=\"Brothers_Grimm/Margaret_Hunt/The_Three_Green_Twigs.html\">6.The Three Green Twigs</a>,\n",
       " <a href=\"Brothers_Grimm/Margaret_Hunt/Our_Lady's_Little_Glass.html\">7.Our Lady's Little Glass</a>,\n",
       " <a href=\"Brothers_Grimm/Margaret_Hunt/The_Aged_Mother.html\"> 8.The Aged Mother</a>,\n",
       " <a href=\"Brothers_Grimm/Margaret_Hunt/The_Heavenly_Wedding.html\">  9.The Heavenly Wedding</a>,\n",
       " <a href=\"Brothers_Grimm/Margaret_Hunt/The_Hazel-Branch.html\">   10.The Hazel-Branch</a>]"
      ]
     },
     "execution_count": 65,
     "metadata": {},
     "output_type": "execute_result"
    }
   ],
   "source": [
    "import re\n",
    "\n",
    "main_page.find_all('a', href = re.compile('Brothers_Grimm'))"
   ]
  },
  {
   "cell_type": "markdown",
   "metadata": {},
   "source": [
    "We can now loop over all of the links that match our criteria. As you would have seen from the last result, `find_all` only returns a partial link. As such, we'll need to join our links to a prefix containing the rest of the link using the `urljoin` method from `urlparse`. We can now create an empty list and append all of the URLs to this."
   ]
  },
  {
   "cell_type": "code",
   "execution_count": 66,
   "metadata": {},
   "outputs": [],
   "source": [
    "urls = []\n",
    "url = \"http://www.worldoftales.com/fairy_tales/\"\n",
    "for tag in main_page.find_all('a', href = re.compile('Brothers_Grimm')):\n",
    "    match = urlparse.urljoin(url, tag['href'])\n",
    "    urls.append(match)"
   ]
  },
  {
   "cell_type": "code",
   "execution_count": 67,
   "metadata": {},
   "outputs": [
    {
     "data": {
      "text/plain": [
       "[u'http://www.worldoftales.com/fairy_tales/Brothers_Grimm/Margaret_Hunt/The_Frog-King,_or_Iron_Henry.html',\n",
       " u'http://www.worldoftales.com/fairy_tales/Brothers_Grimm/Margaret_Hunt/Cat_and_Mouse_in_Partnership.html',\n",
       " u\"http://www.worldoftales.com/fairy_tales/Brothers_Grimm/Margaret_Hunt/Our_Lady's_Child.html\",\n",
       " u'http://www.worldoftales.com/fairy_tales/Brothers_Grimm/Margaret_Hunt/The_Story_of_the_Youth_who_Went_Forth_to_Learn_What_Fear_Was.html',\n",
       " u'http://www.worldoftales.com/fairy_tales/Brothers_Grimm/Margaret_Hunt/The_Wolf_and_The_Seven_Little_Kids.html']"
      ]
     },
     "execution_count": 67,
     "metadata": {},
     "output_type": "execute_result"
    }
   ],
   "source": [
    "urls[0:5]"
   ]
  },
  {
   "cell_type": "markdown",
   "metadata": {},
   "source": [
    "Now that we have our URLs, we can use them to grab the text of each of the stories. Let's start by looking at one of the specific stories on the website.\n",
    "\n",
    "<img src=\"/figure/Chapter 1.3.png\" title=\"Developer tools 3\" style=\"display: block; margin: auto;\" />\n",
    "\n",
    "We can see that the text is tagged as 'div', which just [marks a section](https://www.w3schools.com/tags/tag_div.asp) in the HTML document. The ID attribute is used to set a specific style for all things tagged the same. Finally, the class is 'GM', which just means that [all similar blocks of text](https://www.w3schools.com/html/html_classes.asp) have been given this name. Let's use this information to try and pull out the text of the first tale."
   ]
  },
  {
   "cell_type": "code",
   "execution_count": null,
   "metadata": {},
   "outputs": [],
   "source": [
    "conn = urllib.urlopen(\"http://www.worldoftales.com/fairy_tales/Brothers_Grimm/Margaret_Hunt/The_Frog-King,_or_Iron_Henry.html\").read()\n",
    "tale_page = BeautifulSoup(conn)\n",
    "tale_page.find_all(\"div\", id = 'text', class_ = \"GM\")"
   ]
  },
  {
   "cell_type": "markdown",
   "metadata": {},
   "source": [
    "Great, we have all of the text! The problem is that it is not actually text yet - it is stored in something called a ResultSet. In order to pull the text out (and get rid of those leftover HTML tags), we need to use the `text` method over all of the parts of the ResultsSet."
   ]
  },
  {
   "cell_type": "code",
   "execution_count": null,
   "metadata": {},
   "outputs": [],
   "source": [
    "for div in tale_page.find_all(\"div\", id = 'text', class_ = \"GM\"):\n",
    "    print(div.text)"
   ]
  },
  {
   "cell_type": "markdown",
   "metadata": {},
   "source": [
    "We can now grab all of the text using a similar method to that we used to grab the URLs. However, you can see that we need to create a connection to each URL within the loop. Following that, we can loop over this list in order to extract all of the text."
   ]
  },
  {
   "cell_type": "code",
   "execution_count": 70,
   "metadata": {},
   "outputs": [],
   "source": [
    "raw_tales = []\n",
    "for url in urls:\n",
    "    conn = urllib.urlopen(url).read()\n",
    "    tale_page = BeautifulSoup(conn)\n",
    "    tale = tale_page.find_all(\"div\", id = 'text', class_ = \"GM\")\n",
    "    raw_tales.append(tale)\n",
    "    \n",
    "english_tales = []\n",
    "for tale in raw_tales:\n",
    "    for div in tale:\n",
    "        english_tales.append(div.text)"
   ]
  },
  {
   "cell_type": "markdown",
   "metadata": {},
   "source": [
    "We could use a similar method to extract the titles. However, BeautifulSoup actually tags certain parts of the HTML like titles for us automatically. This means we simply need to use the `title` and `text` methods to pull it out as clean text."
   ]
  },
  {
   "cell_type": "code",
   "execution_count": 71,
   "metadata": {},
   "outputs": [
    {
     "data": {
      "text/plain": [
       "u'Brothers Grimm fairy tales - The Frog-King, or Iron Henry '"
      ]
     },
     "execution_count": 71,
     "metadata": {},
     "output_type": "execute_result"
    }
   ],
   "source": [
    "conn = urllib.urlopen(\"http://www.worldoftales.com/fairy_tales/Brothers_Grimm/Margaret_Hunt/The_Frog-King,_or_Iron_Henry.html\").read()\n",
    "tale_page = BeautifulSoup(conn)\n",
    "tale_page.title.text"
   ]
  },
  {
   "cell_type": "markdown",
   "metadata": {},
   "source": [
    "Let's now do this for all of the titles."
   ]
  },
  {
   "cell_type": "code",
   "execution_count": 72,
   "metadata": {
    "collapsed": true
   },
   "outputs": [],
   "source": [
    "english_titles = []\n",
    "for url in urls:\n",
    "    conn = urllib.urlopen(url).read()\n",
    "    tale_page = BeautifulSoup(conn)\n",
    "    title = tale_page.title.text\n",
    "    english_titles.append(title)"
   ]
  },
  {
   "cell_type": "code",
   "execution_count": 73,
   "metadata": {},
   "outputs": [
    {
     "data": {
      "text/plain": [
       "[u'Brothers Grimm fairy tales - The Frog-King, or Iron Henry ',\n",
       " u'Brothers Grimm fairy tales - Cat and Mouse in Partnership (Margaret Hunt)',\n",
       " u\"Brothers Grimm fairy tales - Our Lady's Child\",\n",
       " u'Brothers Grimm fairy tales - The Story of the Youth who Went Forth to Learn What Fear Was (Margaret Hunt)',\n",
       " u'Brothers Grimm fairy tales - The Wolf and The Seven Little Kids (Margaret Hunt)']"
      ]
     },
     "execution_count": 73,
     "metadata": {},
     "output_type": "execute_result"
    }
   ],
   "source": [
    "english_titles[0:5]"
   ]
  },
  {
   "cell_type": "markdown",
   "metadata": {},
   "source": [
    "### German-language tales\n",
    "\n",
    "We can obviously apply the same methods to pull our German tales from [this site](http://www.grimmstories.com/de/grimm_maerchen/list). Bringing up the developer tools shows us that again, the hyperlinks are tagged with 'a' and 'href'.\n",
    "\n",
    "<img src=\"/figure/Chapter 1.4.png\" title=\"Developer tools 4\" style=\"display: block; margin: auto;\" />\n",
    "\n",
    "Let's have a look at the URLs from the site, limiting only to those results containing 'grimm_maerchen' as this seems to be common to the tale links."
   ]
  },
  {
   "cell_type": "code",
   "execution_count": null,
   "metadata": {},
   "outputs": [],
   "source": [
    "conn = urllib.urlopen(\"http://www.grimmstories.com/de/grimm_maerchen/list\").read()\n",
    "main_page = BeautifulSoup(conn)\n",
    "main_page.find_all('a', href = re.compile('grimm_maerchen'))"
   ]
  },
  {
   "cell_type": "markdown",
   "metadata": {},
   "source": [
    "Ahhh, we have a bit of an issue. We have picked up all of the tale links, but we have also picked up a number of extraneous links such as 'index' and 'favourites'. Luckily, these seem to be at the beginning and the end of the set of links, so we can simply trim them off once we've created our list. The German-language list also contains a number of additional tales not present in the English-language list (those under *In der Ausgabe letzter Hand nicht mehr enthalten*, or those no longer contained in the final version), so we should get rid of those so our datasets from the two languages match. You might have also noticed that this time we've gotten full links back, so we don't need to add a prefix."
   ]
  },
  {
   "cell_type": "code",
   "execution_count": 75,
   "metadata": {
    "collapsed": true
   },
   "outputs": [],
   "source": [
    "conn = urllib.urlopen(\"http://www.grimmstories.com/de/grimm_maerchen/list\").read()\n",
    "main_page = BeautifulSoup(conn)\n",
    "\n",
    "urls = []\n",
    "for tag in main_page.find_all('a', href = re.compile('grimm_maerchen')):\n",
    "    match = tag['href']\n",
    "    urls.append(match)\n",
    "    \n",
    "urls = urls[9:220]"
   ]
  },
  {
   "cell_type": "markdown",
   "metadata": {},
   "source": [
    "Now let's look at pulling out our tale text. You can see from the developer tools that our text is tagged as 'div', with class 'text' and itemprop 'text'. Let's use this to grab all of our text in a list, as we did for the English-language tales."
   ]
  },
  {
   "cell_type": "code",
   "execution_count": 76,
   "metadata": {},
   "outputs": [],
   "source": [
    "raw_tales = []\n",
    "for url in urls:\n",
    "    conn = urllib.urlopen(url).read()\n",
    "    tale_page = BeautifulSoup(conn)\n",
    "    tale = tale_page.find_all(\"div\", itemprop = \"text\", class_ = \"text\")\n",
    "    raw_tales.append(tale)\n",
    "    \n",
    "german_tales = []\n",
    "for tale in raw_tales:\n",
    "    for div in tale:\n",
    "        german_tales.append(div.text)"
   ]
  },
  {
   "cell_type": "markdown",
   "metadata": {},
   "source": [
    "As with the English-language texts, we can also extract the titles using the `title` and `text` methods. Let's run another loop to pull out these results."
   ]
  },
  {
   "cell_type": "code",
   "execution_count": 77,
   "metadata": {},
   "outputs": [],
   "source": [
    "german_titles = []\n",
    "for url in urls:\n",
    "    conn = urllib.urlopen(url).read()\n",
    "    tale_page = BeautifulSoup(conn)\n",
    "    title = tale_page.title.text\n",
    "    german_titles.append(title)"
   ]
  },
  {
   "cell_type": "code",
   "execution_count": 78,
   "metadata": {},
   "outputs": [
    {
     "data": {
      "text/plain": [
       "[u'Der Froschk\\xf6nig oder der eiserne Heinrich - Br\\xfcder Grimm',\n",
       " u'Katze und Maus in Gesellschaft - Br\\xfcder Grimm',\n",
       " u'Marienkind - Br\\xfcder Grimm',\n",
       " u'Von einem, der auszog, das F\\xfcrchten zu lernen - Br\\xfcder Grimm',\n",
       " u'Der Wolf und die sieben jungen Gei\\xdflein - Br\\xfcder Grimm']"
      ]
     },
     "execution_count": 78,
     "metadata": {},
     "output_type": "execute_result"
    }
   ],
   "source": [
    "german_titles[0:5]"
   ]
  },
  {
   "cell_type": "markdown",
   "metadata": {},
   "source": [
    "### Putting it all in a DataFrame\n",
    "\n",
    "Of course, there's not much we can do with a bunch of lists. The easiest way to make some useful data is to pop our 4 lists into a `pandas` DataFrame. To do this, we simply need to import the `DataFrame` function from `pandas`, and then simply assign each list as the value in a dictionary we assign to that function."
   ]
  },
  {
   "cell_type": "code",
   "execution_count": 86,
   "metadata": {},
   "outputs": [],
   "source": [
    "from pandas import DataFrame\n",
    "\n",
    "texts = DataFrame(\n",
    "    {\n",
    "        'english_titles': english_titles,\n",
    "        'english_tales': english_tales,\n",
    "        'german_titles': german_titles,\n",
    "        'german_tales': german_tales\n",
    "    },\n",
    "    columns = ['english_titles', 'english_tales', 'german_titles', 'german_tales'])"
   ]
  },
  {
   "cell_type": "code",
   "execution_count": 87,
   "metadata": {},
   "outputs": [
    {
     "data": {
      "text/html": [
       "<div>\n",
       "<style>\n",
       "    .dataframe thead tr:only-child th {\n",
       "        text-align: right;\n",
       "    }\n",
       "\n",
       "    .dataframe thead th {\n",
       "        text-align: left;\n",
       "    }\n",
       "\n",
       "    .dataframe tbody tr th {\n",
       "        vertical-align: top;\n",
       "    }\n",
       "</style>\n",
       "<table border=\"1\" class=\"dataframe\">\n",
       "  <thead>\n",
       "    <tr style=\"text-align: right;\">\n",
       "      <th></th>\n",
       "      <th>english_titles</th>\n",
       "      <th>english_tales</th>\n",
       "      <th>german_titles</th>\n",
       "      <th>german_tales</th>\n",
       "    </tr>\n",
       "  </thead>\n",
       "  <tbody>\n",
       "    <tr>\n",
       "      <th>0</th>\n",
       "      <td>Brothers Grimm fairy tales - The Frog-King, or...</td>\n",
       "      <td>\\n         In old times when wishing still hel...</td>\n",
       "      <td>Der Froschkönig oder der eiserne Heinrich - Br...</td>\n",
       "      <td>In den alten Zeiten, wo das Wünschen noch geho...</td>\n",
       "    </tr>\n",
       "    <tr>\n",
       "      <th>1</th>\n",
       "      <td>Brothers Grimm fairy tales - Cat and Mouse in ...</td>\n",
       "      <td>\\n         A certain cat had made the acquaint...</td>\n",
       "      <td>Katze und Maus in Gesellschaft - Brüder Grimm</td>\n",
       "      <td>Eine Katze hatte Bekanntschaft mit einer Maus ...</td>\n",
       "    </tr>\n",
       "    <tr>\n",
       "      <th>2</th>\n",
       "      <td>Brothers Grimm fairy tales - Our Lady's Child</td>\n",
       "      <td>\\n         Hard by a great forest dwelt a wood...</td>\n",
       "      <td>Marienkind - Brüder Grimm</td>\n",
       "      <td>Vor einem großen Walde lebte ein Holzhacker mi...</td>\n",
       "    </tr>\n",
       "    <tr>\n",
       "      <th>3</th>\n",
       "      <td>Brothers Grimm fairy tales - The Story of the ...</td>\n",
       "      <td>\\n         A certain father had two sons, the ...</td>\n",
       "      <td>Von einem, der auszog, das Fürchten zu lernen ...</td>\n",
       "      <td>Ein Vater hatte zwei Söhne, davon war der älte...</td>\n",
       "    </tr>\n",
       "    <tr>\n",
       "      <th>4</th>\n",
       "      <td>Brothers Grimm fairy tales - The Wolf and The ...</td>\n",
       "      <td>\\n         There was once on a time an old goa...</td>\n",
       "      <td>Der Wolf und die sieben jungen Geißlein - Brüd...</td>\n",
       "      <td>Es war einmal eine alte Geiß, die hatte sieben...</td>\n",
       "    </tr>\n",
       "  </tbody>\n",
       "</table>\n",
       "</div>"
      ],
      "text/plain": [
       "                                      english_titles  \\\n",
       "0  Brothers Grimm fairy tales - The Frog-King, or...   \n",
       "1  Brothers Grimm fairy tales - Cat and Mouse in ...   \n",
       "2      Brothers Grimm fairy tales - Our Lady's Child   \n",
       "3  Brothers Grimm fairy tales - The Story of the ...   \n",
       "4  Brothers Grimm fairy tales - The Wolf and The ...   \n",
       "\n",
       "                                       english_tales  \\\n",
       "0  \\n         In old times when wishing still hel...   \n",
       "1  \\n         A certain cat had made the acquaint...   \n",
       "2  \\n         Hard by a great forest dwelt a wood...   \n",
       "3  \\n         A certain father had two sons, the ...   \n",
       "4  \\n         There was once on a time an old goa...   \n",
       "\n",
       "                                       german_titles  \\\n",
       "0  Der Froschkönig oder der eiserne Heinrich - Br...   \n",
       "1      Katze und Maus in Gesellschaft - Brüder Grimm   \n",
       "2                          Marienkind - Brüder Grimm   \n",
       "3  Von einem, der auszog, das Fürchten zu lernen ...   \n",
       "4  Der Wolf und die sieben jungen Geißlein - Brüd...   \n",
       "\n",
       "                                        german_tales  \n",
       "0  In den alten Zeiten, wo das Wünschen noch geho...  \n",
       "1  Eine Katze hatte Bekanntschaft mit einer Maus ...  \n",
       "2  Vor einem großen Walde lebte ein Holzhacker mi...  \n",
       "3  Ein Vater hatte zwei Söhne, davon war der älte...  \n",
       "4  Es war einmal eine alte Geiß, die hatte sieben...  "
      ]
     },
     "execution_count": 87,
     "metadata": {},
     "output_type": "execute_result"
    }
   ],
   "source": [
    "texts[0:5]"
   ]
  },
  {
   "cell_type": "code",
   "execution_count": null,
   "metadata": {
    "collapsed": true
   },
   "outputs": [],
   "source": []
  }
 ],
 "metadata": {
  "kernelspec": {
   "display_name": "Python 2",
   "language": "python",
   "name": "python2"
  },
  "language_info": {
   "codemirror_mode": {
    "name": "ipython",
    "version": 2
   },
   "file_extension": ".py",
   "mimetype": "text/x-python",
   "name": "python",
   "nbconvert_exporter": "python",
   "pygments_lexer": "ipython2",
   "version": "2.7.13"
  }
 },
 "nbformat": 4,
 "nbformat_minor": 2
}
