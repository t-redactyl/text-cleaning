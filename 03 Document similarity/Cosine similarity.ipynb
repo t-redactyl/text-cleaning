{
 "cells": [
  {
   "cell_type": "markdown",
   "metadata": {},
   "source": [
    "# Chapter 3: Calculating the similarity between documents\n",
    "\n",
    "Continue here - I need to make a decision about whether this is in the same chapter with tf-idf or not. Probably as otherwise the end of that chapter will involve manually calculating the tf-idf for every word, as well as being a bit boring and anti-climatic."
   ]
  },
  {
   "cell_type": "code",
   "execution_count": 1,
   "metadata": {
    "collapsed": true
   },
   "outputs": [],
   "source": [
    "# Need to find a good step-by-step tutorial of constructing the tf-idf matrix by hand\n",
    "# Then I need to find another step-by-step of the cosine similarity\n",
    "# I should work through both of those completely before I do the chapter!! :D\n",
    "# Also, I can do the graph demonstrating the document-term similarity with the tf-idf!"
   ]
  },
  {
   "cell_type": "code",
   "execution_count": 13,
   "metadata": {},
   "outputs": [
    {
     "name": "stdout",
     "output_type": "stream",
     "text": [
      "Vocabulary: {u'blue': 0, u'sun': 3, u'bright': 1, u'sky': 2}\n"
     ]
    }
   ],
   "source": [
    "from sklearn.feature_extraction.text import CountVectorizer\n",
    "\n",
    "train_set = (\"The sky is blue.\", \"The sun is bright.\")\n",
    "test_set = (\"The sun in the sky is bright.\",\n",
    "\"We can see the shining sun, the bright sun.\")\n",
    "\n",
    "count_vectorizer = CountVectorizer(stop_words='english')\n",
    "count_vectorizer.fit_transform(train_set)\n",
    "print \"Vocabulary:\", count_vectorizer.vocabulary_\n",
    "\n",
    "# Vocabulary: {'blue': 0, 'sun': 1, 'bright': 2, 'sky': 3}"
   ]
  },
  {
   "cell_type": "code",
   "execution_count": 14,
   "metadata": {},
   "outputs": [
    {
     "name": "stdout",
     "output_type": "stream",
     "text": [
      "[[0 1 1 1]\n",
      " [0 1 0 2]]\n"
     ]
    }
   ],
   "source": [
    "freq_term_matrix = count_vectorizer.transform(test_set)\n",
    "print freq_term_matrix.todense()\n",
    "\n",
    "#[[0 1 1 1]\n",
    "#[0 2 1 0]]"
   ]
  },
  {
   "cell_type": "code",
   "execution_count": 16,
   "metadata": {},
   "outputs": [
    {
     "name": "stdout",
     "output_type": "stream",
     "text": [
      "IDF: [ 2.09861229  1.          1.40546511  1.        ]\n"
     ]
    }
   ],
   "source": [
    "from sklearn.feature_extraction.text import TfidfTransformer\n",
    "\n",
    "tfidf = TfidfTransformer(norm=\"l2\", sublinear_tf=True)\n",
    "tfidf.fit(freq_term_matrix)\n",
    "\n",
    "print \"IDF:\", tfidf.idf_\n",
    "\n",
    "# IDF: [ 0.69314718 -0.40546511 -0.40546511  0.        ]"
   ]
  },
  {
   "cell_type": "code",
   "execution_count": 17,
   "metadata": {},
   "outputs": [
    {
     "name": "stdout",
     "output_type": "stream",
     "text": [
      "[[ 0.          0.50154891  0.70490949  0.50154891]\n",
      " [ 0.          0.50854232  0.          0.861037  ]]\n"
     ]
    }
   ],
   "source": [
    "tf_idf_matrix = tfidf.transform(freq_term_matrix)\n",
    "print tf_idf_matrix.todense()\n",
    "\n",
    "# [[ 0.         -0.70710678 -0.70710678  0.        ]\n",
    "# [ 0.         -0.89442719 -0.4472136   0.        ]]\n",
    "\n",
    "[(0 * 0.69314718) (1 * -0.40546511) (1 * -0.40546511) (1 * 0)]\n",
    "= [0 -0.405 -0.405 0]"
   ]
  },
  {
   "cell_type": "code",
   "execution_count": 32,
   "metadata": {},
   "outputs": [
    {
     "name": "stdout",
     "output_type": "stream",
     "text": [
      "Vocabulary: {u'sun': 3, u'bright': 0, u'sky': 2, u'shining': 1}\n"
     ]
    }
   ],
   "source": [
    "from sklearn.feature_extraction.text import TfidfVectorizer\n",
    "\n",
    "train_set = (\"The sky is blue.\", \"The sun is bright.\")\n",
    "test_set = (\"The sun in the sky is bright.\",\n",
    "\"We can see the shining sun, the bright sun.\")\n",
    "\n",
    "sklearn_tfidf = TfidfVectorizer(norm='l2', stop_words='english')\n",
    "#sublinear_tf = True, \n",
    "sklearn_representation = sklearn_tfidf.fit_transform(test_set)\n",
    "\n",
    "print \"Vocabulary:\", sklearn_tfidf.vocabulary_"
   ]
  },
  {
   "cell_type": "code",
   "execution_count": 34,
   "metadata": {},
   "outputs": [
    {
     "data": {
      "text/plain": [
       "matrix([[ 0.50154891,  0.        ,  0.70490949,  0.50154891],\n",
       "        [ 0.37863221,  0.53215436,  0.        ,  0.75726441]])"
      ]
     },
     "execution_count": 34,
     "metadata": {},
     "output_type": "execute_result"
    }
   ],
   "source": [
    "sklearn_representation.todense()"
   ]
  },
  {
   "cell_type": "code",
   "execution_count": 35,
   "metadata": {
    "collapsed": true
   },
   "outputs": [],
   "source": [
    "import math"
   ]
  },
  {
   "cell_type": "code",
   "execution_count": 36,
   "metadata": {},
   "outputs": [
    {
     "data": {
      "text/plain": [
       "0.0"
      ]
     },
     "execution_count": 36,
     "metadata": {},
     "output_type": "execute_result"
    }
   ],
   "source": [
    "math.log(1)"
   ]
  },
  {
   "cell_type": "code",
   "execution_count": null,
   "metadata": {
    "collapsed": true
   },
   "outputs": [],
   "source": []
  }
 ],
 "metadata": {
  "kernelspec": {
   "display_name": "Python 2",
   "language": "python",
   "name": "python2"
  },
  "language_info": {
   "codemirror_mode": {
    "name": "ipython",
    "version": 2
   },
   "file_extension": ".py",
   "mimetype": "text/x-python",
   "name": "python",
   "nbconvert_exporter": "python",
   "pygments_lexer": "ipython2",
   "version": "2.7.13"
  }
 },
 "nbformat": 4,
 "nbformat_minor": 2
}
